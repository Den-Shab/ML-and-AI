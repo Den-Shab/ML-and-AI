{
 "cells": [
  {
   "cell_type": "markdown",
   "metadata": {},
   "source": [
    "## Интеллектуальный анализ данных – весна 2022\n",
    "## Домашнее задание 4: kNN. Линейные модели. Работа с признаками"
   ]
  },
  {
   "cell_type": "markdown",
   "metadata": {},
   "source": [
    "Правила:\n",
    "\n",
    "* Домашнее задание оценивается в 10 баллов.\n",
    "\n",
    "* Можно использовать без доказательства любые результаты, встречавшиеся на лекциях или семинарах по курсу, если получение этих результатов не является вопросом задания.\n",
    "\n",
    "* Можно использовать любые свободные источники с *обязательным* указанием ссылки на них.\n",
    "\n",
    "* Плагиат не допускается. При обнаружении случаев списывания, 0 за работу выставляется всем участникам нарушения, даже если можно установить, кто у кого списал.\n",
    "\n",
    "* Старайтесь сделать код как можно более оптимальным. В частности, будет штрафоваться использование циклов в тех случаях, когда операцию можно совершить при помощи инструментов библиотек, о которых рассказывалось в курсе.  "
   ]
  },
  {
   "cell_type": "markdown",
   "metadata": {},
   "source": [
    "### Задание 1:  Визуализация решающих поверхностей в kNN."
   ]
  },
  {
   "cell_type": "markdown",
   "metadata": {},
   "source": [
    "В этом задании мы изобразим решающую поверхность для классификатора kNN, чтобы наглядно увидеть, как классификатор принимает решения для новых объектов. Для простоты будем работать со встроенным в `sklearn` набором данных `wine`, содержащим информацию о характеристиках трёх видов вина. Описание набора можно найти [здесь](https://scikit-learn.org/stable/modules/generated/sklearn.datasets.load_wine.html#sklearn.datasets.load_wine) и [здесь](https://rdrr.io/cran/rattle.data/man/wine.html). "
   ]
  },
  {
   "cell_type": "markdown",
   "metadata": {},
   "source": [
    "Загрузим набор данных и сохраним информацию о признаках в переменную `X`, а о зависимой переменной – в переменную `y`."
   ]
  },
  {
   "cell_type": "code",
   "execution_count": 2,
   "metadata": {},
   "outputs": [],
   "source": [
    "import numpy as np\n",
    "import pandas as pd\n",
    "import matplotlib.pyplot as plt"
   ]
  },
  {
   "cell_type": "code",
   "execution_count": 3,
   "metadata": {},
   "outputs": [
    {
     "data": {
      "text/html": [
       "<div>\n",
       "<style scoped>\n",
       "    .dataframe tbody tr th:only-of-type {\n",
       "        vertical-align: middle;\n",
       "    }\n",
       "\n",
       "    .dataframe tbody tr th {\n",
       "        vertical-align: top;\n",
       "    }\n",
       "\n",
       "    .dataframe thead th {\n",
       "        text-align: right;\n",
       "    }\n",
       "</style>\n",
       "<table border=\"1\" class=\"dataframe\">\n",
       "  <thead>\n",
       "    <tr style=\"text-align: right;\">\n",
       "      <th></th>\n",
       "      <th>alcohol</th>\n",
       "      <th>malic_acid</th>\n",
       "      <th>ash</th>\n",
       "      <th>alcalinity_of_ash</th>\n",
       "      <th>magnesium</th>\n",
       "      <th>total_phenols</th>\n",
       "      <th>flavanoids</th>\n",
       "      <th>nonflavanoid_phenols</th>\n",
       "      <th>proanthocyanins</th>\n",
       "      <th>color_intensity</th>\n",
       "      <th>hue</th>\n",
       "      <th>od280/od315_of_diluted_wines</th>\n",
       "      <th>proline</th>\n",
       "    </tr>\n",
       "  </thead>\n",
       "  <tbody>\n",
       "    <tr>\n",
       "      <th>0</th>\n",
       "      <td>14.23</td>\n",
       "      <td>1.71</td>\n",
       "      <td>2.43</td>\n",
       "      <td>15.6</td>\n",
       "      <td>127.0</td>\n",
       "      <td>2.80</td>\n",
       "      <td>3.06</td>\n",
       "      <td>0.28</td>\n",
       "      <td>2.29</td>\n",
       "      <td>5.64</td>\n",
       "      <td>1.04</td>\n",
       "      <td>3.92</td>\n",
       "      <td>1065.0</td>\n",
       "    </tr>\n",
       "    <tr>\n",
       "      <th>1</th>\n",
       "      <td>13.20</td>\n",
       "      <td>1.78</td>\n",
       "      <td>2.14</td>\n",
       "      <td>11.2</td>\n",
       "      <td>100.0</td>\n",
       "      <td>2.65</td>\n",
       "      <td>2.76</td>\n",
       "      <td>0.26</td>\n",
       "      <td>1.28</td>\n",
       "      <td>4.38</td>\n",
       "      <td>1.05</td>\n",
       "      <td>3.40</td>\n",
       "      <td>1050.0</td>\n",
       "    </tr>\n",
       "    <tr>\n",
       "      <th>2</th>\n",
       "      <td>13.16</td>\n",
       "      <td>2.36</td>\n",
       "      <td>2.67</td>\n",
       "      <td>18.6</td>\n",
       "      <td>101.0</td>\n",
       "      <td>2.80</td>\n",
       "      <td>3.24</td>\n",
       "      <td>0.30</td>\n",
       "      <td>2.81</td>\n",
       "      <td>5.68</td>\n",
       "      <td>1.03</td>\n",
       "      <td>3.17</td>\n",
       "      <td>1185.0</td>\n",
       "    </tr>\n",
       "    <tr>\n",
       "      <th>3</th>\n",
       "      <td>14.37</td>\n",
       "      <td>1.95</td>\n",
       "      <td>2.50</td>\n",
       "      <td>16.8</td>\n",
       "      <td>113.0</td>\n",
       "      <td>3.85</td>\n",
       "      <td>3.49</td>\n",
       "      <td>0.24</td>\n",
       "      <td>2.18</td>\n",
       "      <td>7.80</td>\n",
       "      <td>0.86</td>\n",
       "      <td>3.45</td>\n",
       "      <td>1480.0</td>\n",
       "    </tr>\n",
       "    <tr>\n",
       "      <th>4</th>\n",
       "      <td>13.24</td>\n",
       "      <td>2.59</td>\n",
       "      <td>2.87</td>\n",
       "      <td>21.0</td>\n",
       "      <td>118.0</td>\n",
       "      <td>2.80</td>\n",
       "      <td>2.69</td>\n",
       "      <td>0.39</td>\n",
       "      <td>1.82</td>\n",
       "      <td>4.32</td>\n",
       "      <td>1.04</td>\n",
       "      <td>2.93</td>\n",
       "      <td>735.0</td>\n",
       "    </tr>\n",
       "    <tr>\n",
       "      <th>5</th>\n",
       "      <td>14.20</td>\n",
       "      <td>1.76</td>\n",
       "      <td>2.45</td>\n",
       "      <td>15.2</td>\n",
       "      <td>112.0</td>\n",
       "      <td>3.27</td>\n",
       "      <td>3.39</td>\n",
       "      <td>0.34</td>\n",
       "      <td>1.97</td>\n",
       "      <td>6.75</td>\n",
       "      <td>1.05</td>\n",
       "      <td>2.85</td>\n",
       "      <td>1450.0</td>\n",
       "    </tr>\n",
       "    <tr>\n",
       "      <th>6</th>\n",
       "      <td>14.39</td>\n",
       "      <td>1.87</td>\n",
       "      <td>2.45</td>\n",
       "      <td>14.6</td>\n",
       "      <td>96.0</td>\n",
       "      <td>2.50</td>\n",
       "      <td>2.52</td>\n",
       "      <td>0.30</td>\n",
       "      <td>1.98</td>\n",
       "      <td>5.25</td>\n",
       "      <td>1.02</td>\n",
       "      <td>3.58</td>\n",
       "      <td>1290.0</td>\n",
       "    </tr>\n",
       "    <tr>\n",
       "      <th>7</th>\n",
       "      <td>14.06</td>\n",
       "      <td>2.15</td>\n",
       "      <td>2.61</td>\n",
       "      <td>17.6</td>\n",
       "      <td>121.0</td>\n",
       "      <td>2.60</td>\n",
       "      <td>2.51</td>\n",
       "      <td>0.31</td>\n",
       "      <td>1.25</td>\n",
       "      <td>5.05</td>\n",
       "      <td>1.06</td>\n",
       "      <td>3.58</td>\n",
       "      <td>1295.0</td>\n",
       "    </tr>\n",
       "  </tbody>\n",
       "</table>\n",
       "</div>"
      ],
      "text/plain": [
       "   alcohol  malic_acid   ash  alcalinity_of_ash  magnesium  total_phenols  \\\n",
       "0    14.23        1.71  2.43               15.6      127.0           2.80   \n",
       "1    13.20        1.78  2.14               11.2      100.0           2.65   \n",
       "2    13.16        2.36  2.67               18.6      101.0           2.80   \n",
       "3    14.37        1.95  2.50               16.8      113.0           3.85   \n",
       "4    13.24        2.59  2.87               21.0      118.0           2.80   \n",
       "5    14.20        1.76  2.45               15.2      112.0           3.27   \n",
       "6    14.39        1.87  2.45               14.6       96.0           2.50   \n",
       "7    14.06        2.15  2.61               17.6      121.0           2.60   \n",
       "\n",
       "   flavanoids  nonflavanoid_phenols  proanthocyanins  color_intensity   hue  \\\n",
       "0        3.06                  0.28             2.29             5.64  1.04   \n",
       "1        2.76                  0.26             1.28             4.38  1.05   \n",
       "2        3.24                  0.30             2.81             5.68  1.03   \n",
       "3        3.49                  0.24             2.18             7.80  0.86   \n",
       "4        2.69                  0.39             1.82             4.32  1.04   \n",
       "5        3.39                  0.34             1.97             6.75  1.05   \n",
       "6        2.52                  0.30             1.98             5.25  1.02   \n",
       "7        2.51                  0.31             1.25             5.05  1.06   \n",
       "\n",
       "   od280/od315_of_diluted_wines  proline  \n",
       "0                          3.92   1065.0  \n",
       "1                          3.40   1050.0  \n",
       "2                          3.17   1185.0  \n",
       "3                          3.45   1480.0  \n",
       "4                          2.93    735.0  \n",
       "5                          2.85   1450.0  \n",
       "6                          3.58   1290.0  \n",
       "7                          3.58   1295.0  "
      ]
     },
     "execution_count": 3,
     "metadata": {},
     "output_type": "execute_result"
    }
   ],
   "source": [
    "from sklearn.datasets import load_wine\n",
    "\n",
    "data = load_wine()\n",
    "X = pd.DataFrame(data['data'], columns = data['feature_names'])\n",
    "y = data['target']\n",
    "X.head(8)"
   ]
  },
  {
   "cell_type": "markdown",
   "metadata": {},
   "source": [
    "**Задача 1.1 (0.5 балла)** Есть ли в наборе данных пропущенные значения? Если да, то удалите их. Есть ли в наборе данных категориальные переменные? Если да, то закодируйте их при помощи OneHot-кодирования."
   ]
  },
  {
   "cell_type": "code",
   "execution_count": 4,
   "metadata": {},
   "outputs": [
    {
     "name": "stdout",
     "output_type": "stream",
     "text": [
      "<class 'pandas.core.frame.DataFrame'>\n",
      "RangeIndex: 178 entries, 0 to 177\n",
      "Data columns (total 13 columns):\n",
      " #   Column                        Non-Null Count  Dtype  \n",
      "---  ------                        --------------  -----  \n",
      " 0   alcohol                       178 non-null    float64\n",
      " 1   malic_acid                    178 non-null    float64\n",
      " 2   ash                           178 non-null    float64\n",
      " 3   alcalinity_of_ash             178 non-null    float64\n",
      " 4   magnesium                     178 non-null    float64\n",
      " 5   total_phenols                 178 non-null    float64\n",
      " 6   flavanoids                    178 non-null    float64\n",
      " 7   nonflavanoid_phenols          178 non-null    float64\n",
      " 8   proanthocyanins               178 non-null    float64\n",
      " 9   color_intensity               178 non-null    float64\n",
      " 10  hue                           178 non-null    float64\n",
      " 11  od280/od315_of_diluted_wines  178 non-null    float64\n",
      " 12  proline                       178 non-null    float64\n",
      "dtypes: float64(13)\n",
      "memory usage: 18.2 KB\n"
     ]
    }
   ],
   "source": [
    "X.info() #нулевые значения отсутствуют, категориальные переменные отсутствуют"
   ]
  },
  {
   "cell_type": "markdown",
   "metadata": {},
   "source": [
    "**Задача 1.2 (0.5 балла)** Используя функцию `train_test_split()`, разделите выборку на тренировочную и тестовую, и долю тестовой выборки задайте равной 0.3. Так как разбиение осуществляется случайным образом, не забудьте зафиксировать `np.random.seed()` для воспроизводимости результатов."
   ]
  },
  {
   "cell_type": "code",
   "execution_count": 5,
   "metadata": {},
   "outputs": [],
   "source": [
    "from sklearn.model_selection import train_test_split\n",
    "np.random.seed(123)\n",
    "X_train, X_test, y_train, y_test = train_test_split(X, y, test_size=0.3)"
   ]
  },
  {
   "cell_type": "markdown",
   "metadata": {},
   "source": [
    "**Задача 1.3 (1 балл)** На тренировочной выборке обучите шесть классификаторов kNN, отличающихся только числом соседей. Для первого классификатора число соседей поставьте равным 1, для второго - 3, для третьего – 5, для четвертого – 10, для пятого – 15 и для шестого – 25 (обратите внимание на параметр `n_neighbours` класса `KNeighborsClassifier`). Для обучения используйте только два признака: `alcohol` и `magnesium` – и евклидово расстояние. Не забудьте масштабировать признаки, например, при помощи модуля `StandardScaler`.\n",
    "\n",
    "Выведите долю правильных ответов на тренировочной и тестовой выборках для каждого классификатора."
   ]
  },
  {
   "cell_type": "code",
   "execution_count": 6,
   "metadata": {},
   "outputs": [
    {
     "data": {
      "text/plain": [
       "<AxesSubplot:xlabel='alcohol', ylabel='magnesium'>"
      ]
     },
     "execution_count": 6,
     "metadata": {},
     "output_type": "execute_result"
    },
    {
     "data": {
      "image/png": "[encoded data removed]",
      "text/plain": [
       "<Figure size 432x288 with 1 Axes>"
      ]
     },
     "metadata": {
      "needs_background": "light"
     },
     "output_type": "display_data"
    }
   ],
   "source": [
    "import seaborn as sns\n",
    "sns.scatterplot(x = X_train[\"alcohol\"], y = X_train[\"magnesium\"], hue=y_train)"
   ]
  },
  {
   "cell_type": "code",
   "execution_count": 7,
   "metadata": {},
   "outputs": [
    {
     "name": "stdout",
     "output_type": "stream",
     "text": [
      "NN     Train    Test\n",
      " 1     1.00     0.56\n",
      " 3     0.83     0.61\n",
      " 5     0.81     0.63\n",
      "10     0.79     0.54\n",
      "15     0.74     0.57\n",
      "25     0.76     0.56\n"
     ]
    }
   ],
   "source": [
    "from sklearn.neighbors import KNeighborsClassifier\n",
    "from sklearn.preprocessing import StandardScaler\n",
    "lst = [1,3,5,10,15,25]\n",
    "a = StandardScaler().fit_transform(X_train[[\"alcohol\", \"magnesium\"]])\n",
    "b = StandardScaler().fit_transform(X_test[[\"alcohol\", \"magnesium\"]])\n",
    "clas = []\n",
    "print(\"NN     Train    Test\")\n",
    "for k in lst:\n",
    "    y1_predicted = KNeighborsClassifier(n_neighbors=k).fit(a, y_train).predict(a)\n",
    "    val1_accuracy = np.mean(y1_predicted==y_train)\n",
    "    clas.append(y1_predicted)\n",
    "    y2_predicted = KNeighborsClassifier(n_neighbors=k).fit(a, y_train).predict(b)\n",
    "    val2_accuracy = np.mean(y2_predicted==y_test)\n",
    "    print(f\"{k:2.0f}     {val1_accuracy:.2f}     {val2_accuracy:.2f}\")"
   ]
  },
  {
   "cell_type": "markdown",
   "metadata": {},
   "source": [
    "**Задача 1.4 (0 баллов)** Установите библиотеку `mlxtend` командой ниже. Библиотеку также можно установить из терминала при помощи `pip` или `conda`, как указано [здесь](http://rasbt.github.io/mlxtend/installation/). "
   ]
  },
  {
   "cell_type": "code",
   "execution_count": 8,
   "metadata": {},
   "outputs": [
    {
     "name": "stdout",
     "output_type": "stream",
     "text": [
      "Requirement already satisfied: mlxtend in d:\\anaconda\\lib\\site-packages (0.19.0)\n",
      "Requirement already satisfied: pandas>=0.24.2 in d:\\anaconda\\lib\\site-packages (from mlxtend) (1.2.4)\n",
      "Requirement already satisfied: joblib>=0.13.2 in d:\\anaconda\\lib\\site-packages (from mlxtend) (1.0.1)\n",
      "Requirement already satisfied: setuptools in d:\\anaconda\\lib\\site-packages (from mlxtend) (52.0.0.post20210125)\n",
      "Requirement already satisfied: matplotlib>=3.0.0 in d:\\anaconda\\lib\\site-packages (from mlxtend) (3.3.4)\n",
      "Requirement already satisfied: scipy>=1.2.1 in d:\\anaconda\\lib\\site-packages (from mlxtend) (1.6.2)\n",
      "Requirement already satisfied: scikit-learn>=0.20.3 in d:\\anaconda\\lib\\site-packages (from mlxtend) (0.24.1)\n",
      "Requirement already satisfied: numpy>=1.16.2 in d:\\anaconda\\lib\\site-packages (from mlxtend) (1.20.1)\n",
      "Requirement already satisfied: cycler>=0.10 in d:\\anaconda\\lib\\site-packages (from matplotlib>=3.0.0->mlxtend) (0.10.0)\n",
      "Requirement already satisfied: pyparsing!=2.0.4,!=2.1.2,!=2.1.6,>=2.0.3 in d:\\anaconda\\lib\\site-packages (from matplotlib>=3.0.0->mlxtend) (2.4.7)\n",
      "Requirement already satisfied: kiwisolver>=1.0.1 in d:\\anaconda\\lib\\site-packages (from matplotlib>=3.0.0->mlxtend) (1.3.1)\n",
      "Requirement already satisfied: pillow>=6.2.0 in d:\\anaconda\\lib\\site-packages (from matplotlib>=3.0.0->mlxtend) (8.2.0)\n",
      "Requirement already satisfied: python-dateutil>=2.1 in d:\\anaconda\\lib\\site-packages (from matplotlib>=3.0.0->mlxtend) (2.8.1)\n",
      "Requirement already satisfied: six in d:\\anaconda\\lib\\site-packages (from cycler>=0.10->matplotlib>=3.0.0->mlxtend) (1.15.0)\n",
      "Requirement already satisfied: pytz>=2017.3 in d:\\anaconda\\lib\\site-packages (from pandas>=0.24.2->mlxtend) (2021.1)\n",
      "Requirement already satisfied: threadpoolctl>=2.0.0 in d:\\anaconda\\lib\\site-packages (from scikit-learn>=0.20.3->mlxtend) (2.1.0)\n"
     ]
    }
   ],
   "source": [
    "!pip install mlxtend"
   ]
  },
  {
   "cell_type": "markdown",
   "metadata": {},
   "source": [
    "Если всё прошло успешно, то в выводе команды выше вы увидите сообщение вроде \"successfully installed\", а следующая ячейка выполнится без ошибок."
   ]
  },
  {
   "cell_type": "code",
   "execution_count": 9,
   "metadata": {},
   "outputs": [],
   "source": [
    "import mlxtend"
   ]
  },
  {
   "cell_type": "markdown",
   "metadata": {},
   "source": [
    "**Задача 1.5 (1 балл)** Библиотека `mlxtend` позволяет достаточно просто визуализировать решающие поверхности обученных классификаторов. Изучите [документацию](http://rasbt.github.io/mlxtend/user_guide/plotting/plot_decision_regions/) библиотеки и найдите, как можно построить несколько графиков решающих поверхностей на сетке (decision regions grid). Постройте такую сетку графиков для обученных выше классификаторов.\n",
    "\n",
    "**Подсказки:**\n",
    "1. Вы можете использовать готовый код, приведённый в документации, и адаптировать его для нашего случая.\n",
    "2. Вам могут понадобиться дополнительные библиотеки, которые используются в примере из документации.\n",
    "3. Обратите внимание на то, как нужно изменить параметры `gridspec.GridSpec()` и `itertools.product()` для нашего числа классификаторов. \n",
    "4. В функции `plot_decision_region()` используйте `y_train` и нужные столбцы из `X_train`. Возможно, их придётся перевести в формат массива `numpy`.\n",
    "5. Если в задаче 1.3 вы сохраните обученные классификаторы в список, то не будет необходимости обучать их заново. \n",
    "6. Построение графика может занять некоторое время – придётся немного подождать!"
   ]
  },
  {
   "cell_type": "code",
   "execution_count": 10,
   "metadata": {},
   "outputs": [
    {
     "data": {
      "image/png": "[encoded data removed]",
      "text/plain": [
       "<Figure size 1152x864 with 6 Axes>"
      ]
     },
     "metadata": {
      "needs_background": "light"
     },
     "output_type": "display_data"
    }
   ],
   "source": [
    "from mlxtend.plotting import plot_decision_regions\n",
    "import matplotlib.gridspec as gridspec\n",
    "import itertools\n",
    "gs = gridspec.GridSpec(3, 3)\n",
    "\n",
    "fig = plt.figure(figsize=(16,12))\n",
    "\n",
    "clf1 = KNeighborsClassifier(n_neighbors=1)\n",
    "clf2 = KNeighborsClassifier(n_neighbors=3)\n",
    "clf3 = KNeighborsClassifier(n_neighbors=5)\n",
    "clf4 = KNeighborsClassifier(n_neighbors=10)\n",
    "clf5 = KNeighborsClassifier(n_neighbors=15)\n",
    "clf6 = KNeighborsClassifier(n_neighbors=25)\n",
    "\n",
    "X = np.array(a)\n",
    "y = y_train\n",
    "\n",
    "labels = ['n_neighbours = 1', 'n_neighbours = 3', 'n_neighbours = 5', 'n_neighbours = 10', 'n_neighbours = 15', 'n_neighbours = 25']\n",
    "for clf, lab, grd in zip([clf1, clf2, clf3, clf4, clf5, clf6],\n",
    "                         labels,\n",
    "                         itertools.product([0, 1], [0, 1, 2])):\n",
    "\n",
    "    clf.fit(X, y)\n",
    "    ax = plt.subplot(gs[grd[0], grd[1]])\n",
    "    fig = plot_decision_regions(X=X, y=y, clf=clf, legend=2)\n",
    "    plt.title(lab)\n",
    "\n",
    "plt.show()"
   ]
  },
  {
   "cell_type": "markdown",
   "metadata": {},
   "source": [
    "**Задача 1.6 (0.5 балла)** Прокомментируйте результаты, полученные в задачах 1.3 и 1.5. Какое число соседей оптимально использовать для обучения классификатора? Поясните ваш выбор при помощи описания геометрии данных и получаемой решающей поверхности."
   ]
  },
  {
   "cell_type": "markdown",
   "metadata": {},
   "source": [
    "Исходя из результатов, полученных в заданиях 1.3 и 1.5, можно сделать вывод, что оптимальным числом соседей является k=5. С точки зрения решающих поверхностей, при данном k графики получились не такими сложными и чувствительными к выбросам, как при k=1, но и не такими простыми, как при k=25, где, например, из-за большого количества синих точек практически отсутствует область влияния зеленых. Результат доли правильных предсказаний из задания 1.3 подтверждает данный вывод."
   ]
  },
  {
   "cell_type": "markdown",
   "metadata": {},
   "source": [
    "### Задание 2: Обученная машина."
   ]
  },
  {
   "cell_type": "markdown",
   "metadata": {},
   "source": [
    "В этом задании мы рассмотрим упрощённую идею того, как метод ближайших соседей можно применить при моделировании движения робота. \n",
    "\n",
    "Рассмотрим робота на дискретной двумерной плоскости, который за каждый момент дискретного времени может передвинуться на одну позицию вправо, влево, вверх или вниз. На плоскости разбросаны метки одного из четырёх классов, анализируя которые робот может (но не обязан) корректировать своё перемещение. Пусть метки класса 0 соответствуют сигналу переместиться вправо, метки класса 1 – влево, класса 2 – вверх, класса 3 – вниз. \n",
    "\n",
    "Передвижение робота осуществляется по следующему правилу: с вероятностью 0.2 робот передвинется вправо, и с вероятностью 0.8 – оценит, метки какого класса преобладают среди `k` его ближайших соседей, и передвинется в направлении этого доминирующего класса. \n",
    "\n",
    "Для лучшего понимания происходящего изобразим возможное положение робота и меток:"
   ]
  },
  {
   "cell_type": "code",
   "execution_count": 11,
   "metadata": {},
   "outputs": [
    {
     "data": {
      "image/png": "[encoded data removed]",
      "text/plain": [
       "<Figure size 720x504 with 1 Axes>"
      ]
     },
     "metadata": {
      "needs_background": "light"
     },
     "output_type": "display_data"
    }
   ],
   "source": [
    "np.random.seed(12345)\n",
    "x = np.arange(20)\n",
    "landmarks = x + np.round(np.random.normal(2, 8, 20)) # сгенерируем случайные метки\n",
    "random_classes = np.random.randint(0, 4, 20)\n",
    "\n",
    "fig, ax = plt.subplots(figsize = (10, 7))\n",
    "scatter = ax.scatter(x, landmarks, c = random_classes)\n",
    "ax.scatter(4, 7, c = 'r', marker = 'o', label = 'robot position')\n",
    "legend1 = ax.legend(*scatter.legend_elements(),\n",
    "                    loc = \"lower left\", title = \"Classes\")\n",
    "ax.add_artist(legend1)\n",
    "\n",
    "plt.plot()\n",
    "_ = plt.legend()\n",
    "_ = plt.grid()"
   ]
  },
  {
   "cell_type": "markdown",
   "metadata": {},
   "source": [
    "На следующем шаге робот передвинется на 1 либо вправо, либо в направлении, которое указывают ближайшие соседи."
   ]
  },
  {
   "cell_type": "markdown",
   "metadata": {},
   "source": [
    "**Задача 2.1 (1.5 балла)** Реализуйте класс, который задаёт описанное поведение робота, используя шаблон ниже:\n",
    "1. Определите атрибуты `trajectory` (переменная для хранения истории перемещения робота в виде последовательности точек с двумя координатами) и `knn` (обученный kNN классификатор, который по позиции метки предсказывает её класс).\n",
    "2. Определите метод `move()`: рассчитайте новое положение робота по правилам выше и добавьте её в историю перемещений. Подсказка: исходы можно интерпретировать как результаты подбрасывания монетки с вероятностью орла, равной 0.2. Для моделирования такого подбрасывания можно использовать, например, `np.random.binomial()` с правильными параметрами. "
   ]
  },
  {
   "cell_type": "code",
   "execution_count": 12,
   "metadata": {},
   "outputs": [],
   "source": [
    "from sklearn.neighbors import KNeighborsClassifier"
   ]
  },
  {
   "cell_type": "code",
   "execution_count": 13,
   "metadata": {},
   "outputs": [],
   "source": [
    "class MobileRobot():\n",
    "    \n",
    "    \n",
    "    def __init__(self, k, initial_position, landmarks, classes):\n",
    "        '''\n",
    "        Attributes:\n",
    "        ------\n",
    "        k: int\n",
    "            Number of neighbours\n",
    "            \n",
    "        initial_position: ndarray\n",
    "            Initial position of the robot as a point, e.g. (-1, 1)\n",
    "            \n",
    "        landmarks: ndarray\n",
    "            numpy array of shape (n_landmarks, 2) with the euclidean positions of points\n",
    "        \n",
    "        classes: ndarray\n",
    "            numpy array of shape (n_landmarks, ) with class of landmark for each point in landmarks\n",
    "        \n",
    "        '''\n",
    "        # Store the history of movements\n",
    "        self.trajectory = []\n",
    "        self.trajectory.append(initial_position)\n",
    "        \n",
    "        self.knn = KNeighborsClassifier(n_neighbors=k).fit(landmarks, classes)\n",
    "        # Mapping between classes of points and movements\n",
    "        self.mapping = {0: np.array([1, 0]), \n",
    "                        1: np.array([-1, 0]),\n",
    "                        2: np.array([0, 1]),\n",
    "                        3: np.array([0, -1])}\n",
    "    \n",
    "        \n",
    "    def move(self):\n",
    "        '''\n",
    "        Calculate new position of the robot and add it to the historys\n",
    "        '''\n",
    "        self.cur= np.array(self.trajectory[len(self.trajectory)-1])\n",
    "        s = np.random.binomial(1, 0.2)\n",
    "        if s == 1:\n",
    "            self.cur[0] += 1\n",
    "            self.trajectory.append(tuple([self.cur[0], self.cur[1]]))\n",
    "        else:\n",
    "            tr = self.knn.predict(self.cur.reshape(1, -1))\n",
    "            self.cur[0] += self.mapping[tr[0]][0]\n",
    "            self.cur[1] += self.mapping[tr[0]][1]\n",
    "            self.trajectory.append(tuple([self.cur[0], self.cur[1]]))\n",
    "            \n",
    "    def get_traj(self):\n",
    "        return self.trajectory"
   ]
  },
  {
   "cell_type": "markdown",
   "metadata": {},
   "source": [
    "**Задача 2.2 (0.5 балла)** Дополните функцию `conduct_experiment`: определите переменную `traj` так, чтобы она содержала историю перемещения робота в виде двумерного массива numpy, в котором столбцы соответствуют координатам x и y соответствующей позиции."
   ]
  },
  {
   "cell_type": "code",
   "execution_count": 14,
   "metadata": {},
   "outputs": [],
   "source": [
    "def conduct_experiment(x,\n",
    "                       mean = 0,\n",
    "                       std = 2, \n",
    "                       n_movements = 10, \n",
    "                       k = 3, \n",
    "                       initial_position = np.array([10, 20])):\n",
    "    \n",
    "    np.random.seed(12345)\n",
    "    # Generate random landmarks\n",
    "    landmarks = np.vstack((x, x + np.round(np.random.normal(mean, std, len(x))))).T\n",
    "\n",
    "    # Generate random classes of landmarks\n",
    "    classes = np.random.randint(0, 4, size = len(x))\n",
    "    # Conduct experiment\n",
    "    robot = MobileRobot(k, initial_position, landmarks, classes)\n",
    "    \n",
    "    for n in range(n_movements):\n",
    "        robot.move()\n",
    "    \n",
    "    fig, ax = plt.subplots(figsize = (10, 8))\n",
    "    scatter = ax.scatter(landmarks[:, 0], landmarks[:, 1], c = classes)\n",
    "    legend1 = ax.legend(*scatter.legend_elements(),\n",
    "                        loc=\"lower left\", title=\"classes\")\n",
    "    ax.add_artist(legend1)\n",
    "    \n",
    "    traj = np.array(robot.get_traj())\n",
    "    ax.plot(traj[:, 0], traj[:, 1], \n",
    "                 c = 'r', marker = 'o', label = 'robot position')\n",
    "    \n",
    "    plt.plot()\n",
    "    _ = plt.legend()\n",
    "    _ = plt.grid()"
   ]
  },
  {
   "cell_type": "code",
   "execution_count": 15,
   "metadata": {},
   "outputs": [
    {
     "data": {
      "image/png": "[encoded data removed]",
      "text/plain": [
       "<Figure size 720x576 with 1 Axes>"
      ]
     },
     "metadata": {
      "needs_background": "light"
     },
     "output_type": "display_data"
    }
   ],
   "source": [
    "x = np.arange(30)\n",
    "conduct_experiment(x, mean = 3, std = 10, k = 5, n_movements = 50)"
   ]
  },
  {
   "cell_type": "markdown",
   "metadata": {},
   "source": [
    "**Задача 2.3 (1 балл)** Как число соседей влияет на траекторию движения робота в нашем эксперименте? Постройте четыре графика с различным числом соседей на ваш выбор. А что было бы в случае, если классы назначаются меткам не случайно, а осмысленно? "
   ]
  },
  {
   "cell_type": "code",
   "execution_count": 16,
   "metadata": {},
   "outputs": [
    {
     "data": {
      "image/png": "[encoded data removed]",
      "text/plain": [
       "<Figure size 720x576 with 1 Axes>"
      ]
     },
     "metadata": {
      "needs_background": "light"
     },
     "output_type": "display_data"
    },
    {
     "data": {
      "image/png": "[encoded data removed]",
      "text/plain": [
       "<Figure size 720x576 with 1 Axes>"
      ]
     },
     "metadata": {
      "needs_background": "light"
     },
     "output_type": "display_data"
    },
    {
     "data": {
      "image/png": "[encoded data removed]",
      "text/plain": [
       "<Figure size 720x576 with 1 Axes>"
      ]
     },
     "metadata": {
      "needs_background": "light"
     },
     "output_type": "display_data"
    },
    {
     "data": {
      "image/png": "[encoded data removed]",
      "text/plain": [
       "<Figure size 720x576 with 1 Axes>"
      ]
     },
     "metadata": {
      "needs_background": "light"
     },
     "output_type": "display_data"
    }
   ],
   "source": [
    "conduct_experiment(x, mean = 3, std = 10, k = 3, n_movements = 50)\n",
    "conduct_experiment(x, mean = 3, std = 10, k = 10, n_movements = 50)\n",
    "conduct_experiment(x, mean = 3, std = 10, k = 20, n_movements = 50)\n",
    "conduct_experiment(x, mean = 3, std = 10, k = 30, n_movements = 50)"
   ]
  },
  {
   "cell_type": "markdown",
   "metadata": {},
   "source": [
    "Из четырех вышеприведенных графиков, а также графика из задания 2.3, можно заметить, что траектории движения имеют общие черты: робот движется слева-направо, периодически спускаясь и поднимаясь по координате y. Это говорит о том, что точки служат своего рода ориентирами для робота. Если задать их не случайным образом, можно построить маршрут, которого будет придерживаться робот, чуть чуть изменяя траекторию за счет рандома. Увелечение количества соседей упрощает траеткорию движения робота, так как на каждую точку влияет не локальный набор, а глобальный(например, при k=30 робот при использовании метода оценки ближайших соседей всегда будет двигаться в том направлении, на какое укажут все \"ориентиры\", и это направление никогда не изменится)"
   ]
  },
  {
   "cell_type": "markdown",
   "metadata": {},
   "source": [
    "### Задание 3: Линейная регрессия."
   ]
  },
  {
   "cell_type": "markdown",
   "metadata": {},
   "source": [
    "В этом задании мы рассмотрим различные аспекты построения линейной модели. Мы будем работать с одним из классических наборов данных в статистике, содержащим информацию о бриллиантах. Описание можно посмотреть [здесь](https://www.kaggle.com/shivam2503/diamonds)."
   ]
  },
  {
   "cell_type": "code",
   "execution_count": 17,
   "metadata": {},
   "outputs": [
    {
     "data": {
      "text/html": [
       "<div>\n",
       "<style scoped>\n",
       "    .dataframe tbody tr th:only-of-type {\n",
       "        vertical-align: middle;\n",
       "    }\n",
       "\n",
       "    .dataframe tbody tr th {\n",
       "        vertical-align: top;\n",
       "    }\n",
       "\n",
       "    .dataframe thead th {\n",
       "        text-align: right;\n",
       "    }\n",
       "</style>\n",
       "<table border=\"1\" class=\"dataframe\">\n",
       "  <thead>\n",
       "    <tr style=\"text-align: right;\">\n",
       "      <th></th>\n",
       "      <th>Unnamed: 0</th>\n",
       "      <th>carat</th>\n",
       "      <th>cut</th>\n",
       "      <th>color</th>\n",
       "      <th>clarity</th>\n",
       "      <th>depth</th>\n",
       "      <th>table</th>\n",
       "      <th>price</th>\n",
       "      <th>x</th>\n",
       "      <th>y</th>\n",
       "      <th>z</th>\n",
       "    </tr>\n",
       "  </thead>\n",
       "  <tbody>\n",
       "    <tr>\n",
       "      <th>0</th>\n",
       "      <td>1</td>\n",
       "      <td>0.23</td>\n",
       "      <td>Ideal</td>\n",
       "      <td>E</td>\n",
       "      <td>SI2</td>\n",
       "      <td>61.5</td>\n",
       "      <td>55.0</td>\n",
       "      <td>326</td>\n",
       "      <td>3.95</td>\n",
       "      <td>3.98</td>\n",
       "      <td>2.43</td>\n",
       "    </tr>\n",
       "    <tr>\n",
       "      <th>1</th>\n",
       "      <td>2</td>\n",
       "      <td>0.21</td>\n",
       "      <td>Premium</td>\n",
       "      <td>E</td>\n",
       "      <td>SI1</td>\n",
       "      <td>59.8</td>\n",
       "      <td>61.0</td>\n",
       "      <td>326</td>\n",
       "      <td>3.89</td>\n",
       "      <td>3.84</td>\n",
       "      <td>2.31</td>\n",
       "    </tr>\n",
       "    <tr>\n",
       "      <th>2</th>\n",
       "      <td>3</td>\n",
       "      <td>0.23</td>\n",
       "      <td>Good</td>\n",
       "      <td>E</td>\n",
       "      <td>VS1</td>\n",
       "      <td>56.9</td>\n",
       "      <td>65.0</td>\n",
       "      <td>327</td>\n",
       "      <td>4.05</td>\n",
       "      <td>4.07</td>\n",
       "      <td>2.31</td>\n",
       "    </tr>\n",
       "    <tr>\n",
       "      <th>3</th>\n",
       "      <td>4</td>\n",
       "      <td>0.29</td>\n",
       "      <td>Premium</td>\n",
       "      <td>I</td>\n",
       "      <td>VS2</td>\n",
       "      <td>62.4</td>\n",
       "      <td>58.0</td>\n",
       "      <td>334</td>\n",
       "      <td>4.20</td>\n",
       "      <td>4.23</td>\n",
       "      <td>2.63</td>\n",
       "    </tr>\n",
       "    <tr>\n",
       "      <th>4</th>\n",
       "      <td>5</td>\n",
       "      <td>0.31</td>\n",
       "      <td>Good</td>\n",
       "      <td>J</td>\n",
       "      <td>SI2</td>\n",
       "      <td>63.3</td>\n",
       "      <td>58.0</td>\n",
       "      <td>335</td>\n",
       "      <td>4.34</td>\n",
       "      <td>4.35</td>\n",
       "      <td>2.75</td>\n",
       "    </tr>\n",
       "  </tbody>\n",
       "</table>\n",
       "</div>"
      ],
      "text/plain": [
       "   Unnamed: 0  carat      cut color clarity  depth  table  price     x     y  \\\n",
       "0           1   0.23    Ideal     E     SI2   61.5   55.0    326  3.95  3.98   \n",
       "1           2   0.21  Premium     E     SI1   59.8   61.0    326  3.89  3.84   \n",
       "2           3   0.23     Good     E     VS1   56.9   65.0    327  4.05  4.07   \n",
       "3           4   0.29  Premium     I     VS2   62.4   58.0    334  4.20  4.23   \n",
       "4           5   0.31     Good     J     SI2   63.3   58.0    335  4.34  4.35   \n",
       "\n",
       "      z  \n",
       "0  2.43  \n",
       "1  2.31  \n",
       "2  2.31  \n",
       "3  2.63  \n",
       "4  2.75  "
      ]
     },
     "execution_count": 17,
     "metadata": {},
     "output_type": "execute_result"
    }
   ],
   "source": [
    "data = pd.read_csv('D://diamonds.csv')\n",
    "data.head(5)"
   ]
  },
  {
   "cell_type": "markdown",
   "metadata": {},
   "source": [
    "Мы будем решать задачу предсказания цены бриллианта `price` в зависимости от его характеристик."
   ]
  },
  {
   "cell_type": "markdown",
   "metadata": {},
   "source": [
    "**Задача 3.1 (0.1 балла)** Есть ли в наборе данных пропущенные значения? Если да, удалите их. "
   ]
  },
  {
   "cell_type": "code",
   "execution_count": 18,
   "metadata": {},
   "outputs": [
    {
     "name": "stdout",
     "output_type": "stream",
     "text": [
      "<class 'pandas.core.frame.DataFrame'>\n",
      "RangeIndex: 53940 entries, 0 to 53939\n",
      "Data columns (total 11 columns):\n",
      " #   Column      Non-Null Count  Dtype  \n",
      "---  ------      --------------  -----  \n",
      " 0   Unnamed: 0  53940 non-null  int64  \n",
      " 1   carat       53940 non-null  float64\n",
      " 2   cut         53940 non-null  object \n",
      " 3   color       53940 non-null  object \n",
      " 4   clarity     53940 non-null  object \n",
      " 5   depth       53940 non-null  float64\n",
      " 6   table       53940 non-null  float64\n",
      " 7   price       53940 non-null  int64  \n",
      " 8   x           53940 non-null  float64\n",
      " 9   y           53940 non-null  float64\n",
      " 10  z           53940 non-null  float64\n",
      "dtypes: float64(6), int64(2), object(3)\n",
      "memory usage: 4.5+ MB\n"
     ]
    }
   ],
   "source": [
    "data.info() "
   ]
  },
  {
   "cell_type": "markdown",
   "metadata": {},
   "source": [
    "**Задача 3.2 (0.1 балла)** Есть ли в наборе данных бессмысленные столбцы (признаки, не несущие дополнительной информации)? Если да, то удалите их."
   ]
  },
  {
   "cell_type": "code",
   "execution_count": 19,
   "metadata": {},
   "outputs": [
    {
     "data": {
      "text/html": [
       "<div>\n",
       "<style scoped>\n",
       "    .dataframe tbody tr th:only-of-type {\n",
       "        vertical-align: middle;\n",
       "    }\n",
       "\n",
       "    .dataframe tbody tr th {\n",
       "        vertical-align: top;\n",
       "    }\n",
       "\n",
       "    .dataframe thead th {\n",
       "        text-align: right;\n",
       "    }\n",
       "</style>\n",
       "<table border=\"1\" class=\"dataframe\">\n",
       "  <thead>\n",
       "    <tr style=\"text-align: right;\">\n",
       "      <th></th>\n",
       "      <th>carat</th>\n",
       "      <th>cut</th>\n",
       "      <th>color</th>\n",
       "      <th>clarity</th>\n",
       "      <th>depth</th>\n",
       "      <th>table</th>\n",
       "      <th>price</th>\n",
       "      <th>x</th>\n",
       "      <th>y</th>\n",
       "      <th>z</th>\n",
       "    </tr>\n",
       "  </thead>\n",
       "  <tbody>\n",
       "    <tr>\n",
       "      <th>0</th>\n",
       "      <td>0.23</td>\n",
       "      <td>Ideal</td>\n",
       "      <td>E</td>\n",
       "      <td>SI2</td>\n",
       "      <td>61.5</td>\n",
       "      <td>55.0</td>\n",
       "      <td>326</td>\n",
       "      <td>3.95</td>\n",
       "      <td>3.98</td>\n",
       "      <td>2.43</td>\n",
       "    </tr>\n",
       "    <tr>\n",
       "      <th>1</th>\n",
       "      <td>0.21</td>\n",
       "      <td>Premium</td>\n",
       "      <td>E</td>\n",
       "      <td>SI1</td>\n",
       "      <td>59.8</td>\n",
       "      <td>61.0</td>\n",
       "      <td>326</td>\n",
       "      <td>3.89</td>\n",
       "      <td>3.84</td>\n",
       "      <td>2.31</td>\n",
       "    </tr>\n",
       "    <tr>\n",
       "      <th>2</th>\n",
       "      <td>0.23</td>\n",
       "      <td>Good</td>\n",
       "      <td>E</td>\n",
       "      <td>VS1</td>\n",
       "      <td>56.9</td>\n",
       "      <td>65.0</td>\n",
       "      <td>327</td>\n",
       "      <td>4.05</td>\n",
       "      <td>4.07</td>\n",
       "      <td>2.31</td>\n",
       "    </tr>\n",
       "    <tr>\n",
       "      <th>3</th>\n",
       "      <td>0.29</td>\n",
       "      <td>Premium</td>\n",
       "      <td>I</td>\n",
       "      <td>VS2</td>\n",
       "      <td>62.4</td>\n",
       "      <td>58.0</td>\n",
       "      <td>334</td>\n",
       "      <td>4.20</td>\n",
       "      <td>4.23</td>\n",
       "      <td>2.63</td>\n",
       "    </tr>\n",
       "    <tr>\n",
       "      <th>4</th>\n",
       "      <td>0.31</td>\n",
       "      <td>Good</td>\n",
       "      <td>J</td>\n",
       "      <td>SI2</td>\n",
       "      <td>63.3</td>\n",
       "      <td>58.0</td>\n",
       "      <td>335</td>\n",
       "      <td>4.34</td>\n",
       "      <td>4.35</td>\n",
       "      <td>2.75</td>\n",
       "    </tr>\n",
       "    <tr>\n",
       "      <th>...</th>\n",
       "      <td>...</td>\n",
       "      <td>...</td>\n",
       "      <td>...</td>\n",
       "      <td>...</td>\n",
       "      <td>...</td>\n",
       "      <td>...</td>\n",
       "      <td>...</td>\n",
       "      <td>...</td>\n",
       "      <td>...</td>\n",
       "      <td>...</td>\n",
       "    </tr>\n",
       "    <tr>\n",
       "      <th>53935</th>\n",
       "      <td>0.72</td>\n",
       "      <td>Ideal</td>\n",
       "      <td>D</td>\n",
       "      <td>SI1</td>\n",
       "      <td>60.8</td>\n",
       "      <td>57.0</td>\n",
       "      <td>2757</td>\n",
       "      <td>5.75</td>\n",
       "      <td>5.76</td>\n",
       "      <td>3.50</td>\n",
       "    </tr>\n",
       "    <tr>\n",
       "      <th>53936</th>\n",
       "      <td>0.72</td>\n",
       "      <td>Good</td>\n",
       "      <td>D</td>\n",
       "      <td>SI1</td>\n",
       "      <td>63.1</td>\n",
       "      <td>55.0</td>\n",
       "      <td>2757</td>\n",
       "      <td>5.69</td>\n",
       "      <td>5.75</td>\n",
       "      <td>3.61</td>\n",
       "    </tr>\n",
       "    <tr>\n",
       "      <th>53937</th>\n",
       "      <td>0.70</td>\n",
       "      <td>Very Good</td>\n",
       "      <td>D</td>\n",
       "      <td>SI1</td>\n",
       "      <td>62.8</td>\n",
       "      <td>60.0</td>\n",
       "      <td>2757</td>\n",
       "      <td>5.66</td>\n",
       "      <td>5.68</td>\n",
       "      <td>3.56</td>\n",
       "    </tr>\n",
       "    <tr>\n",
       "      <th>53938</th>\n",
       "      <td>0.86</td>\n",
       "      <td>Premium</td>\n",
       "      <td>H</td>\n",
       "      <td>SI2</td>\n",
       "      <td>61.0</td>\n",
       "      <td>58.0</td>\n",
       "      <td>2757</td>\n",
       "      <td>6.15</td>\n",
       "      <td>6.12</td>\n",
       "      <td>3.74</td>\n",
       "    </tr>\n",
       "    <tr>\n",
       "      <th>53939</th>\n",
       "      <td>0.75</td>\n",
       "      <td>Ideal</td>\n",
       "      <td>D</td>\n",
       "      <td>SI2</td>\n",
       "      <td>62.2</td>\n",
       "      <td>55.0</td>\n",
       "      <td>2757</td>\n",
       "      <td>5.83</td>\n",
       "      <td>5.87</td>\n",
       "      <td>3.64</td>\n",
       "    </tr>\n",
       "  </tbody>\n",
       "</table>\n",
       "<p>53940 rows × 10 columns</p>\n",
       "</div>"
      ],
      "text/plain": [
       "       carat        cut color clarity  depth  table  price     x     y     z\n",
       "0       0.23      Ideal     E     SI2   61.5   55.0    326  3.95  3.98  2.43\n",
       "1       0.21    Premium     E     SI1   59.8   61.0    326  3.89  3.84  2.31\n",
       "2       0.23       Good     E     VS1   56.9   65.0    327  4.05  4.07  2.31\n",
       "3       0.29    Premium     I     VS2   62.4   58.0    334  4.20  4.23  2.63\n",
       "4       0.31       Good     J     SI2   63.3   58.0    335  4.34  4.35  2.75\n",
       "...      ...        ...   ...     ...    ...    ...    ...   ...   ...   ...\n",
       "53935   0.72      Ideal     D     SI1   60.8   57.0   2757  5.75  5.76  3.50\n",
       "53936   0.72       Good     D     SI1   63.1   55.0   2757  5.69  5.75  3.61\n",
       "53937   0.70  Very Good     D     SI1   62.8   60.0   2757  5.66  5.68  3.56\n",
       "53938   0.86    Premium     H     SI2   61.0   58.0   2757  6.15  6.12  3.74\n",
       "53939   0.75      Ideal     D     SI2   62.2   55.0   2757  5.83  5.87  3.64\n",
       "\n",
       "[53940 rows x 10 columns]"
      ]
     },
     "execution_count": 19,
     "metadata": {},
     "output_type": "execute_result"
    }
   ],
   "source": [
    "# Можно заметить, что в таблице присутствует столбец \"Unnamed: 0\", который не несет никакой информации и служит для индексации строк, его можно удалить \n",
    "pd.DataFrame(data).pop('Unnamed: 0')\n",
    "data"
   ]
  },
  {
   "cell_type": "markdown",
   "metadata": {},
   "source": [
    "**Задача 3.3 (0.1 балла)** Линейная регрессия основана на предположении о линейной связи между признаками и целевой переменной, а потому перед выбором переменных для включения в модель имеет смысл проверить, насколько эта связь выполняется. Для следующих пунктов нам также потребуются выборочные корреляции между признаками. Выведите матрицу выборочных корреляций между всеми вещественными признаками и целевой переменной (то есть в этой матрице будет $k+1$ строка, где $k$ – количество вещественных признаков).\n",
    "\n",
    "Какие вещественные признаки коррелируют с целевой переменной больше всего?"
   ]
  },
  {
   "cell_type": "code",
   "execution_count": 20,
   "metadata": {},
   "outputs": [
    {
     "data": {
      "text/html": [
       "<div>\n",
       "<style scoped>\n",
       "    .dataframe tbody tr th:only-of-type {\n",
       "        vertical-align: middle;\n",
       "    }\n",
       "\n",
       "    .dataframe tbody tr th {\n",
       "        vertical-align: top;\n",
       "    }\n",
       "\n",
       "    .dataframe thead th {\n",
       "        text-align: right;\n",
       "    }\n",
       "</style>\n",
       "<table border=\"1\" class=\"dataframe\">\n",
       "  <thead>\n",
       "    <tr style=\"text-align: right;\">\n",
       "      <th></th>\n",
       "      <th>carat</th>\n",
       "      <th>depth</th>\n",
       "      <th>table</th>\n",
       "      <th>price</th>\n",
       "      <th>x</th>\n",
       "      <th>y</th>\n",
       "      <th>z</th>\n",
       "    </tr>\n",
       "  </thead>\n",
       "  <tbody>\n",
       "    <tr>\n",
       "      <th>carat</th>\n",
       "      <td>1.000000</td>\n",
       "      <td>0.028224</td>\n",
       "      <td>0.181618</td>\n",
       "      <td>0.921591</td>\n",
       "      <td>0.975094</td>\n",
       "      <td>0.951722</td>\n",
       "      <td>0.953387</td>\n",
       "    </tr>\n",
       "    <tr>\n",
       "      <th>depth</th>\n",
       "      <td>0.028224</td>\n",
       "      <td>1.000000</td>\n",
       "      <td>-0.295779</td>\n",
       "      <td>-0.010647</td>\n",
       "      <td>-0.025289</td>\n",
       "      <td>-0.029341</td>\n",
       "      <td>0.094924</td>\n",
       "    </tr>\n",
       "    <tr>\n",
       "      <th>table</th>\n",
       "      <td>0.181618</td>\n",
       "      <td>-0.295779</td>\n",
       "      <td>1.000000</td>\n",
       "      <td>0.127134</td>\n",
       "      <td>0.195344</td>\n",
       "      <td>0.183760</td>\n",
       "      <td>0.150929</td>\n",
       "    </tr>\n",
       "    <tr>\n",
       "      <th>price</th>\n",
       "      <td>0.921591</td>\n",
       "      <td>-0.010647</td>\n",
       "      <td>0.127134</td>\n",
       "      <td>1.000000</td>\n",
       "      <td>0.884435</td>\n",
       "      <td>0.865421</td>\n",
       "      <td>0.861249</td>\n",
       "    </tr>\n",
       "    <tr>\n",
       "      <th>x</th>\n",
       "      <td>0.975094</td>\n",
       "      <td>-0.025289</td>\n",
       "      <td>0.195344</td>\n",
       "      <td>0.884435</td>\n",
       "      <td>1.000000</td>\n",
       "      <td>0.974701</td>\n",
       "      <td>0.970772</td>\n",
       "    </tr>\n",
       "    <tr>\n",
       "      <th>y</th>\n",
       "      <td>0.951722</td>\n",
       "      <td>-0.029341</td>\n",
       "      <td>0.183760</td>\n",
       "      <td>0.865421</td>\n",
       "      <td>0.974701</td>\n",
       "      <td>1.000000</td>\n",
       "      <td>0.952006</td>\n",
       "    </tr>\n",
       "    <tr>\n",
       "      <th>z</th>\n",
       "      <td>0.953387</td>\n",
       "      <td>0.094924</td>\n",
       "      <td>0.150929</td>\n",
       "      <td>0.861249</td>\n",
       "      <td>0.970772</td>\n",
       "      <td>0.952006</td>\n",
       "      <td>1.000000</td>\n",
       "    </tr>\n",
       "  </tbody>\n",
       "</table>\n",
       "</div>"
      ],
      "text/plain": [
       "          carat     depth     table     price         x         y         z\n",
       "carat  1.000000  0.028224  0.181618  0.921591  0.975094  0.951722  0.953387\n",
       "depth  0.028224  1.000000 -0.295779 -0.010647 -0.025289 -0.029341  0.094924\n",
       "table  0.181618 -0.295779  1.000000  0.127134  0.195344  0.183760  0.150929\n",
       "price  0.921591 -0.010647  0.127134  1.000000  0.884435  0.865421  0.861249\n",
       "x      0.975094 -0.025289  0.195344  0.884435  1.000000  0.974701  0.970772\n",
       "y      0.951722 -0.029341  0.183760  0.865421  0.974701  1.000000  0.952006\n",
       "z      0.953387  0.094924  0.150929  0.861249  0.970772  0.952006  1.000000"
      ]
     },
     "execution_count": 20,
     "metadata": {},
     "output_type": "execute_result"
    }
   ],
   "source": [
    "data.corr()\n",
    "# Больше всего с целевой переменной коррелируют признаки, отвечающие за размер(x, y, z), а также признак carat"
   ]
  },
  {
   "cell_type": "markdown",
   "metadata": {},
   "source": [
    "**Задача 3.4 (0.1 балла)** Так как линейная модель складывает значения признаков с некоторыми весами, нам нужно аккуратно обработать категориальные признаки. Закодируйте категориальные переменные при помощи OneHot-кодирования."
   ]
  },
  {
   "cell_type": "code",
   "execution_count": 21,
   "metadata": {},
   "outputs": [
    {
     "data": {
      "text/html": [
       "<div>\n",
       "<style scoped>\n",
       "    .dataframe tbody tr th:only-of-type {\n",
       "        vertical-align: middle;\n",
       "    }\n",
       "\n",
       "    .dataframe tbody tr th {\n",
       "        vertical-align: top;\n",
       "    }\n",
       "\n",
       "    .dataframe thead th {\n",
       "        text-align: right;\n",
       "    }\n",
       "</style>\n",
       "<table border=\"1\" class=\"dataframe\">\n",
       "  <thead>\n",
       "    <tr style=\"text-align: right;\">\n",
       "      <th></th>\n",
       "      <th>carat</th>\n",
       "      <th>depth</th>\n",
       "      <th>table</th>\n",
       "      <th>price</th>\n",
       "      <th>x</th>\n",
       "      <th>y</th>\n",
       "      <th>z</th>\n",
       "      <th>cut_Fair</th>\n",
       "      <th>cut_Good</th>\n",
       "      <th>cut_Ideal</th>\n",
       "      <th>...</th>\n",
       "      <th>color_I</th>\n",
       "      <th>color_J</th>\n",
       "      <th>clarity_I1</th>\n",
       "      <th>clarity_IF</th>\n",
       "      <th>clarity_SI1</th>\n",
       "      <th>clarity_SI2</th>\n",
       "      <th>clarity_VS1</th>\n",
       "      <th>clarity_VS2</th>\n",
       "      <th>clarity_VVS1</th>\n",
       "      <th>clarity_VVS2</th>\n",
       "    </tr>\n",
       "  </thead>\n",
       "  <tbody>\n",
       "    <tr>\n",
       "      <th>0</th>\n",
       "      <td>0.23</td>\n",
       "      <td>61.5</td>\n",
       "      <td>55.0</td>\n",
       "      <td>326</td>\n",
       "      <td>3.95</td>\n",
       "      <td>3.98</td>\n",
       "      <td>2.43</td>\n",
       "      <td>0</td>\n",
       "      <td>0</td>\n",
       "      <td>1</td>\n",
       "      <td>...</td>\n",
       "      <td>0</td>\n",
       "      <td>0</td>\n",
       "      <td>0</td>\n",
       "      <td>0</td>\n",
       "      <td>0</td>\n",
       "      <td>1</td>\n",
       "      <td>0</td>\n",
       "      <td>0</td>\n",
       "      <td>0</td>\n",
       "      <td>0</td>\n",
       "    </tr>\n",
       "    <tr>\n",
       "      <th>1</th>\n",
       "      <td>0.21</td>\n",
       "      <td>59.8</td>\n",
       "      <td>61.0</td>\n",
       "      <td>326</td>\n",
       "      <td>3.89</td>\n",
       "      <td>3.84</td>\n",
       "      <td>2.31</td>\n",
       "      <td>0</td>\n",
       "      <td>0</td>\n",
       "      <td>0</td>\n",
       "      <td>...</td>\n",
       "      <td>0</td>\n",
       "      <td>0</td>\n",
       "      <td>0</td>\n",
       "      <td>0</td>\n",
       "      <td>1</td>\n",
       "      <td>0</td>\n",
       "      <td>0</td>\n",
       "      <td>0</td>\n",
       "      <td>0</td>\n",
       "      <td>0</td>\n",
       "    </tr>\n",
       "    <tr>\n",
       "      <th>2</th>\n",
       "      <td>0.23</td>\n",
       "      <td>56.9</td>\n",
       "      <td>65.0</td>\n",
       "      <td>327</td>\n",
       "      <td>4.05</td>\n",
       "      <td>4.07</td>\n",
       "      <td>2.31</td>\n",
       "      <td>0</td>\n",
       "      <td>1</td>\n",
       "      <td>0</td>\n",
       "      <td>...</td>\n",
       "      <td>0</td>\n",
       "      <td>0</td>\n",
       "      <td>0</td>\n",
       "      <td>0</td>\n",
       "      <td>0</td>\n",
       "      <td>0</td>\n",
       "      <td>1</td>\n",
       "      <td>0</td>\n",
       "      <td>0</td>\n",
       "      <td>0</td>\n",
       "    </tr>\n",
       "    <tr>\n",
       "      <th>3</th>\n",
       "      <td>0.29</td>\n",
       "      <td>62.4</td>\n",
       "      <td>58.0</td>\n",
       "      <td>334</td>\n",
       "      <td>4.20</td>\n",
       "      <td>4.23</td>\n",
       "      <td>2.63</td>\n",
       "      <td>0</td>\n",
       "      <td>0</td>\n",
       "      <td>0</td>\n",
       "      <td>...</td>\n",
       "      <td>1</td>\n",
       "      <td>0</td>\n",
       "      <td>0</td>\n",
       "      <td>0</td>\n",
       "      <td>0</td>\n",
       "      <td>0</td>\n",
       "      <td>0</td>\n",
       "      <td>1</td>\n",
       "      <td>0</td>\n",
       "      <td>0</td>\n",
       "    </tr>\n",
       "    <tr>\n",
       "      <th>4</th>\n",
       "      <td>0.31</td>\n",
       "      <td>63.3</td>\n",
       "      <td>58.0</td>\n",
       "      <td>335</td>\n",
       "      <td>4.34</td>\n",
       "      <td>4.35</td>\n",
       "      <td>2.75</td>\n",
       "      <td>0</td>\n",
       "      <td>1</td>\n",
       "      <td>0</td>\n",
       "      <td>...</td>\n",
       "      <td>0</td>\n",
       "      <td>1</td>\n",
       "      <td>0</td>\n",
       "      <td>0</td>\n",
       "      <td>0</td>\n",
       "      <td>1</td>\n",
       "      <td>0</td>\n",
       "      <td>0</td>\n",
       "      <td>0</td>\n",
       "      <td>0</td>\n",
       "    </tr>\n",
       "    <tr>\n",
       "      <th>...</th>\n",
       "      <td>...</td>\n",
       "      <td>...</td>\n",
       "      <td>...</td>\n",
       "      <td>...</td>\n",
       "      <td>...</td>\n",
       "      <td>...</td>\n",
       "      <td>...</td>\n",
       "      <td>...</td>\n",
       "      <td>...</td>\n",
       "      <td>...</td>\n",
       "      <td>...</td>\n",
       "      <td>...</td>\n",
       "      <td>...</td>\n",
       "      <td>...</td>\n",
       "      <td>...</td>\n",
       "      <td>...</td>\n",
       "      <td>...</td>\n",
       "      <td>...</td>\n",
       "      <td>...</td>\n",
       "      <td>...</td>\n",
       "      <td>...</td>\n",
       "    </tr>\n",
       "    <tr>\n",
       "      <th>53935</th>\n",
       "      <td>0.72</td>\n",
       "      <td>60.8</td>\n",
       "      <td>57.0</td>\n",
       "      <td>2757</td>\n",
       "      <td>5.75</td>\n",
       "      <td>5.76</td>\n",
       "      <td>3.50</td>\n",
       "      <td>0</td>\n",
       "      <td>0</td>\n",
       "      <td>1</td>\n",
       "      <td>...</td>\n",
       "      <td>0</td>\n",
       "      <td>0</td>\n",
       "      <td>0</td>\n",
       "      <td>0</td>\n",
       "      <td>1</td>\n",
       "      <td>0</td>\n",
       "      <td>0</td>\n",
       "      <td>0</td>\n",
       "      <td>0</td>\n",
       "      <td>0</td>\n",
       "    </tr>\n",
       "    <tr>\n",
       "      <th>53936</th>\n",
       "      <td>0.72</td>\n",
       "      <td>63.1</td>\n",
       "      <td>55.0</td>\n",
       "      <td>2757</td>\n",
       "      <td>5.69</td>\n",
       "      <td>5.75</td>\n",
       "      <td>3.61</td>\n",
       "      <td>0</td>\n",
       "      <td>1</td>\n",
       "      <td>0</td>\n",
       "      <td>...</td>\n",
       "      <td>0</td>\n",
       "      <td>0</td>\n",
       "      <td>0</td>\n",
       "      <td>0</td>\n",
       "      <td>1</td>\n",
       "      <td>0</td>\n",
       "      <td>0</td>\n",
       "      <td>0</td>\n",
       "      <td>0</td>\n",
       "      <td>0</td>\n",
       "    </tr>\n",
       "    <tr>\n",
       "      <th>53937</th>\n",
       "      <td>0.70</td>\n",
       "      <td>62.8</td>\n",
       "      <td>60.0</td>\n",
       "      <td>2757</td>\n",
       "      <td>5.66</td>\n",
       "      <td>5.68</td>\n",
       "      <td>3.56</td>\n",
       "      <td>0</td>\n",
       "      <td>0</td>\n",
       "      <td>0</td>\n",
       "      <td>...</td>\n",
       "      <td>0</td>\n",
       "      <td>0</td>\n",
       "      <td>0</td>\n",
       "      <td>0</td>\n",
       "      <td>1</td>\n",
       "      <td>0</td>\n",
       "      <td>0</td>\n",
       "      <td>0</td>\n",
       "      <td>0</td>\n",
       "      <td>0</td>\n",
       "    </tr>\n",
       "    <tr>\n",
       "      <th>53938</th>\n",
       "      <td>0.86</td>\n",
       "      <td>61.0</td>\n",
       "      <td>58.0</td>\n",
       "      <td>2757</td>\n",
       "      <td>6.15</td>\n",
       "      <td>6.12</td>\n",
       "      <td>3.74</td>\n",
       "      <td>0</td>\n",
       "      <td>0</td>\n",
       "      <td>0</td>\n",
       "      <td>...</td>\n",
       "      <td>0</td>\n",
       "      <td>0</td>\n",
       "      <td>0</td>\n",
       "      <td>0</td>\n",
       "      <td>0</td>\n",
       "      <td>1</td>\n",
       "      <td>0</td>\n",
       "      <td>0</td>\n",
       "      <td>0</td>\n",
       "      <td>0</td>\n",
       "    </tr>\n",
       "    <tr>\n",
       "      <th>53939</th>\n",
       "      <td>0.75</td>\n",
       "      <td>62.2</td>\n",
       "      <td>55.0</td>\n",
       "      <td>2757</td>\n",
       "      <td>5.83</td>\n",
       "      <td>5.87</td>\n",
       "      <td>3.64</td>\n",
       "      <td>0</td>\n",
       "      <td>0</td>\n",
       "      <td>1</td>\n",
       "      <td>...</td>\n",
       "      <td>0</td>\n",
       "      <td>0</td>\n",
       "      <td>0</td>\n",
       "      <td>0</td>\n",
       "      <td>0</td>\n",
       "      <td>1</td>\n",
       "      <td>0</td>\n",
       "      <td>0</td>\n",
       "      <td>0</td>\n",
       "      <td>0</td>\n",
       "    </tr>\n",
       "  </tbody>\n",
       "</table>\n",
       "<p>53940 rows × 27 columns</p>\n",
       "</div>"
      ],
      "text/plain": [
       "       carat  depth  table  price     x     y     z  cut_Fair  cut_Good  \\\n",
       "0       0.23   61.5   55.0    326  3.95  3.98  2.43         0         0   \n",
       "1       0.21   59.8   61.0    326  3.89  3.84  2.31         0         0   \n",
       "2       0.23   56.9   65.0    327  4.05  4.07  2.31         0         1   \n",
       "3       0.29   62.4   58.0    334  4.20  4.23  2.63         0         0   \n",
       "4       0.31   63.3   58.0    335  4.34  4.35  2.75         0         1   \n",
       "...      ...    ...    ...    ...   ...   ...   ...       ...       ...   \n",
       "53935   0.72   60.8   57.0   2757  5.75  5.76  3.50         0         0   \n",
       "53936   0.72   63.1   55.0   2757  5.69  5.75  3.61         0         1   \n",
       "53937   0.70   62.8   60.0   2757  5.66  5.68  3.56         0         0   \n",
       "53938   0.86   61.0   58.0   2757  6.15  6.12  3.74         0         0   \n",
       "53939   0.75   62.2   55.0   2757  5.83  5.87  3.64         0         0   \n",
       "\n",
       "       cut_Ideal  ...  color_I  color_J  clarity_I1  clarity_IF  clarity_SI1  \\\n",
       "0              1  ...        0        0           0           0            0   \n",
       "1              0  ...        0        0           0           0            1   \n",
       "2              0  ...        0        0           0           0            0   \n",
       "3              0  ...        1        0           0           0            0   \n",
       "4              0  ...        0        1           0           0            0   \n",
       "...          ...  ...      ...      ...         ...         ...          ...   \n",
       "53935          1  ...        0        0           0           0            1   \n",
       "53936          0  ...        0        0           0           0            1   \n",
       "53937          0  ...        0        0           0           0            1   \n",
       "53938          0  ...        0        0           0           0            0   \n",
       "53939          1  ...        0        0           0           0            0   \n",
       "\n",
       "       clarity_SI2  clarity_VS1  clarity_VS2  clarity_VVS1  clarity_VVS2  \n",
       "0                1            0            0             0             0  \n",
       "1                0            0            0             0             0  \n",
       "2                0            1            0             0             0  \n",
       "3                0            0            1             0             0  \n",
       "4                1            0            0             0             0  \n",
       "...            ...          ...          ...           ...           ...  \n",
       "53935            0            0            0             0             0  \n",
       "53936            0            0            0             0             0  \n",
       "53937            0            0            0             0             0  \n",
       "53938            1            0            0             0             0  \n",
       "53939            1            0            0             0             0  \n",
       "\n",
       "[53940 rows x 27 columns]"
      ]
     },
     "execution_count": 21,
     "metadata": {},
     "output_type": "execute_result"
    }
   ],
   "source": [
    "data = pd.get_dummies(data, ['cut', 'color', 'clarity'])\n",
    "data"
   ]
  },
  {
   "cell_type": "markdown",
   "metadata": {},
   "source": [
    "**Задача 3.5 (0.2 балла)** Разделите выборку на тренировочную и тестовую. Долю тестовой выборки укажите равной 0.3."
   ]
  },
  {
   "cell_type": "code",
   "execution_count": 22,
   "metadata": {},
   "outputs": [],
   "source": [
    "np.random.seed(12345)\n",
    "y = data.price\n",
    "X = data.drop('price', axis=1)\n",
    "X_train, X_test, y_train, y_test = train_test_split(X, y, test_size=0.3)"
   ]
  },
  {
   "cell_type": "markdown",
   "metadata": {},
   "source": [
    "**Задача 3.6 (0.3 балла)** Зачастую при использовании линейных моделей вещественные признаки масштабируются. При этом оценки коэффициентов теряют прямую статистическую интерпретацию (\"при увеличении $X_1$ на 1, $y$ увеличивается на $w_1$\"), но приобретают свойства, полезные в задачах машинного обучения. В этой задаче масштабируйте вещественные признаки тренировочной и тестовой выборок при помощи модуля `StandardScaler`."
   ]
  },
  {
   "cell_type": "code",
   "execution_count": 23,
   "metadata": {},
   "outputs": [
    {
     "data": {
      "text/html": [
       "<div>\n",
       "<style scoped>\n",
       "    .dataframe tbody tr th:only-of-type {\n",
       "        vertical-align: middle;\n",
       "    }\n",
       "\n",
       "    .dataframe tbody tr th {\n",
       "        vertical-align: top;\n",
       "    }\n",
       "\n",
       "    .dataframe thead th {\n",
       "        text-align: right;\n",
       "    }\n",
       "</style>\n",
       "<table border=\"1\" class=\"dataframe\">\n",
       "  <thead>\n",
       "    <tr style=\"text-align: right;\">\n",
       "      <th></th>\n",
       "      <th>0</th>\n",
       "      <th>1</th>\n",
       "      <th>2</th>\n",
       "      <th>3</th>\n",
       "      <th>4</th>\n",
       "      <th>5</th>\n",
       "      <th>6</th>\n",
       "      <th>7</th>\n",
       "      <th>8</th>\n",
       "      <th>9</th>\n",
       "      <th>...</th>\n",
       "      <th>16</th>\n",
       "      <th>17</th>\n",
       "      <th>18</th>\n",
       "      <th>19</th>\n",
       "      <th>20</th>\n",
       "      <th>21</th>\n",
       "      <th>22</th>\n",
       "      <th>23</th>\n",
       "      <th>24</th>\n",
       "      <th>25</th>\n",
       "    </tr>\n",
       "  </thead>\n",
       "  <tbody>\n",
       "    <tr>\n",
       "      <th>0</th>\n",
       "      <td>-0.927373</td>\n",
       "      <td>-0.311238</td>\n",
       "      <td>1.133187</td>\n",
       "      <td>-1.082573</td>\n",
       "      <td>-1.029988</td>\n",
       "      <td>-1.057217</td>\n",
       "      <td>-0.173873</td>\n",
       "      <td>-0.316707</td>\n",
       "      <td>-0.814777</td>\n",
       "      <td>1.705964</td>\n",
       "      <td>...</td>\n",
       "      <td>-0.333392</td>\n",
       "      <td>4.305040</td>\n",
       "      <td>-0.115374</td>\n",
       "      <td>-0.185497</td>\n",
       "      <td>1.761475</td>\n",
       "      <td>-0.453000</td>\n",
       "      <td>-0.422363</td>\n",
       "      <td>-0.539407</td>\n",
       "      <td>-0.269292</td>\n",
       "      <td>-0.324393</td>\n",
       "    </tr>\n",
       "    <tr>\n",
       "      <th>1</th>\n",
       "      <td>-0.167973</td>\n",
       "      <td>0.247483</td>\n",
       "      <td>0.242202</td>\n",
       "      <td>-0.004751</td>\n",
       "      <td>0.020092</td>\n",
       "      <td>0.040537</td>\n",
       "      <td>-0.173873</td>\n",
       "      <td>-0.316707</td>\n",
       "      <td>-0.814777</td>\n",
       "      <td>1.705964</td>\n",
       "      <td>...</td>\n",
       "      <td>-0.333392</td>\n",
       "      <td>-0.232286</td>\n",
       "      <td>-0.115374</td>\n",
       "      <td>-0.185497</td>\n",
       "      <td>1.761475</td>\n",
       "      <td>-0.453000</td>\n",
       "      <td>-0.422363</td>\n",
       "      <td>-0.539407</td>\n",
       "      <td>-0.269292</td>\n",
       "      <td>-0.324393</td>\n",
       "    </tr>\n",
       "    <tr>\n",
       "      <th>2</th>\n",
       "      <td>1.245357</td>\n",
       "      <td>-0.660439</td>\n",
       "      <td>-0.203290</td>\n",
       "      <td>1.340300</td>\n",
       "      <td>1.321474</td>\n",
       "      <td>1.194586</td>\n",
       "      <td>-0.173873</td>\n",
       "      <td>-0.316707</td>\n",
       "      <td>1.227330</td>\n",
       "      <td>-0.586179</td>\n",
       "      <td>...</td>\n",
       "      <td>-0.333392</td>\n",
       "      <td>-0.232286</td>\n",
       "      <td>-0.115374</td>\n",
       "      <td>-0.185497</td>\n",
       "      <td>-0.567706</td>\n",
       "      <td>-0.453000</td>\n",
       "      <td>-0.422363</td>\n",
       "      <td>1.853887</td>\n",
       "      <td>-0.269292</td>\n",
       "      <td>-0.324393</td>\n",
       "    </tr>\n",
       "    <tr>\n",
       "      <th>3</th>\n",
       "      <td>-0.990657</td>\n",
       "      <td>-0.660439</td>\n",
       "      <td>0.242202</td>\n",
       "      <td>-1.127111</td>\n",
       "      <td>-1.164614</td>\n",
       "      <td>-1.169808</td>\n",
       "      <td>-0.173873</td>\n",
       "      <td>-0.316707</td>\n",
       "      <td>-0.814777</td>\n",
       "      <td>1.705964</td>\n",
       "      <td>...</td>\n",
       "      <td>-0.333392</td>\n",
       "      <td>-0.232286</td>\n",
       "      <td>-0.115374</td>\n",
       "      <td>-0.185497</td>\n",
       "      <td>-0.567706</td>\n",
       "      <td>-0.453000</td>\n",
       "      <td>-0.422363</td>\n",
       "      <td>1.853887</td>\n",
       "      <td>-0.269292</td>\n",
       "      <td>-0.324393</td>\n",
       "    </tr>\n",
       "    <tr>\n",
       "      <th>4</th>\n",
       "      <td>0.971129</td>\n",
       "      <td>0.387164</td>\n",
       "      <td>-0.203290</td>\n",
       "      <td>1.010718</td>\n",
       "      <td>1.061198</td>\n",
       "      <td>1.067922</td>\n",
       "      <td>-0.173873</td>\n",
       "      <td>-0.316707</td>\n",
       "      <td>1.227330</td>\n",
       "      <td>-0.586179</td>\n",
       "      <td>...</td>\n",
       "      <td>-0.333392</td>\n",
       "      <td>-0.232286</td>\n",
       "      <td>-0.115374</td>\n",
       "      <td>-0.185497</td>\n",
       "      <td>-0.567706</td>\n",
       "      <td>-0.453000</td>\n",
       "      <td>-0.422363</td>\n",
       "      <td>-0.539407</td>\n",
       "      <td>-0.269292</td>\n",
       "      <td>3.082681</td>\n",
       "    </tr>\n",
       "    <tr>\n",
       "      <th>...</th>\n",
       "      <td>...</td>\n",
       "      <td>...</td>\n",
       "      <td>...</td>\n",
       "      <td>...</td>\n",
       "      <td>...</td>\n",
       "      <td>...</td>\n",
       "      <td>...</td>\n",
       "      <td>...</td>\n",
       "      <td>...</td>\n",
       "      <td>...</td>\n",
       "      <td>...</td>\n",
       "      <td>...</td>\n",
       "      <td>...</td>\n",
       "      <td>...</td>\n",
       "      <td>...</td>\n",
       "      <td>...</td>\n",
       "      <td>...</td>\n",
       "      <td>...</td>\n",
       "      <td>...</td>\n",
       "      <td>...</td>\n",
       "      <td>...</td>\n",
       "    </tr>\n",
       "    <tr>\n",
       "      <th>37753</th>\n",
       "      <td>-0.484390</td>\n",
       "      <td>-1.358840</td>\n",
       "      <td>0.687695</td>\n",
       "      <td>-0.307610</td>\n",
       "      <td>-0.294034</td>\n",
       "      <td>-0.437972</td>\n",
       "      <td>-0.173873</td>\n",
       "      <td>-0.316707</td>\n",
       "      <td>-0.814777</td>\n",
       "      <td>-0.586179</td>\n",
       "      <td>...</td>\n",
       "      <td>-0.333392</td>\n",
       "      <td>4.305040</td>\n",
       "      <td>-0.115374</td>\n",
       "      <td>5.390928</td>\n",
       "      <td>-0.567706</td>\n",
       "      <td>-0.453000</td>\n",
       "      <td>-0.422363</td>\n",
       "      <td>-0.539407</td>\n",
       "      <td>-0.269292</td>\n",
       "      <td>-0.324393</td>\n",
       "    </tr>\n",
       "    <tr>\n",
       "      <th>37754</th>\n",
       "      <td>1.076601</td>\n",
       "      <td>-0.171558</td>\n",
       "      <td>-1.094275</td>\n",
       "      <td>1.144333</td>\n",
       "      <td>1.177873</td>\n",
       "      <td>1.110143</td>\n",
       "      <td>-0.173873</td>\n",
       "      <td>-0.316707</td>\n",
       "      <td>1.227330</td>\n",
       "      <td>-0.586179</td>\n",
       "      <td>...</td>\n",
       "      <td>-0.333392</td>\n",
       "      <td>-0.232286</td>\n",
       "      <td>-0.115374</td>\n",
       "      <td>-0.185497</td>\n",
       "      <td>-0.567706</td>\n",
       "      <td>-0.453000</td>\n",
       "      <td>2.367629</td>\n",
       "      <td>-0.539407</td>\n",
       "      <td>-0.269292</td>\n",
       "      <td>-0.324393</td>\n",
       "    </tr>\n",
       "    <tr>\n",
       "      <th>37755</th>\n",
       "      <td>0.422673</td>\n",
       "      <td>3.390291</td>\n",
       "      <td>0.687695</td>\n",
       "      <td>0.298109</td>\n",
       "      <td>0.244469</td>\n",
       "      <td>0.673856</td>\n",
       "      <td>5.751314</td>\n",
       "      <td>-0.316707</td>\n",
       "      <td>-0.814777</td>\n",
       "      <td>-0.586179</td>\n",
       "      <td>...</td>\n",
       "      <td>-0.333392</td>\n",
       "      <td>-0.232286</td>\n",
       "      <td>-0.115374</td>\n",
       "      <td>-0.185497</td>\n",
       "      <td>-0.567706</td>\n",
       "      <td>2.207504</td>\n",
       "      <td>-0.422363</td>\n",
       "      <td>-0.539407</td>\n",
       "      <td>-0.269292</td>\n",
       "      <td>-0.324393</td>\n",
       "    </tr>\n",
       "    <tr>\n",
       "      <th>37756</th>\n",
       "      <td>0.570334</td>\n",
       "      <td>0.177643</td>\n",
       "      <td>-0.648783</td>\n",
       "      <td>0.690044</td>\n",
       "      <td>0.729121</td>\n",
       "      <td>0.772373</td>\n",
       "      <td>-0.173873</td>\n",
       "      <td>-0.316707</td>\n",
       "      <td>1.227330</td>\n",
       "      <td>-0.586179</td>\n",
       "      <td>...</td>\n",
       "      <td>-0.333392</td>\n",
       "      <td>-0.232286</td>\n",
       "      <td>-0.115374</td>\n",
       "      <td>-0.185497</td>\n",
       "      <td>-0.567706</td>\n",
       "      <td>2.207504</td>\n",
       "      <td>-0.422363</td>\n",
       "      <td>-0.539407</td>\n",
       "      <td>-0.269292</td>\n",
       "      <td>-0.324393</td>\n",
       "    </tr>\n",
       "    <tr>\n",
       "      <th>37757</th>\n",
       "      <td>1.646152</td>\n",
       "      <td>0.596684</td>\n",
       "      <td>-0.648783</td>\n",
       "      <td>1.527360</td>\n",
       "      <td>1.590726</td>\n",
       "      <td>1.602725</td>\n",
       "      <td>-0.173873</td>\n",
       "      <td>-0.316707</td>\n",
       "      <td>1.227330</td>\n",
       "      <td>-0.586179</td>\n",
       "      <td>...</td>\n",
       "      <td>2.999470</td>\n",
       "      <td>-0.232286</td>\n",
       "      <td>-0.115374</td>\n",
       "      <td>-0.185497</td>\n",
       "      <td>1.761475</td>\n",
       "      <td>-0.453000</td>\n",
       "      <td>-0.422363</td>\n",
       "      <td>-0.539407</td>\n",
       "      <td>-0.269292</td>\n",
       "      <td>-0.324393</td>\n",
       "    </tr>\n",
       "  </tbody>\n",
       "</table>\n",
       "<p>37758 rows × 26 columns</p>\n",
       "</div>"
      ],
      "text/plain": [
       "             0         1         2         3         4         5         6   \\\n",
       "0     -0.927373 -0.311238  1.133187 -1.082573 -1.029988 -1.057217 -0.173873   \n",
       "1     -0.167973  0.247483  0.242202 -0.004751  0.020092  0.040537 -0.173873   \n",
       "2      1.245357 -0.660439 -0.203290  1.340300  1.321474  1.194586 -0.173873   \n",
       "3     -0.990657 -0.660439  0.242202 -1.127111 -1.164614 -1.169808 -0.173873   \n",
       "4      0.971129  0.387164 -0.203290  1.010718  1.061198  1.067922 -0.173873   \n",
       "...         ...       ...       ...       ...       ...       ...       ...   \n",
       "37753 -0.484390 -1.358840  0.687695 -0.307610 -0.294034 -0.437972 -0.173873   \n",
       "37754  1.076601 -0.171558 -1.094275  1.144333  1.177873  1.110143 -0.173873   \n",
       "37755  0.422673  3.390291  0.687695  0.298109  0.244469  0.673856  5.751314   \n",
       "37756  0.570334  0.177643 -0.648783  0.690044  0.729121  0.772373 -0.173873   \n",
       "37757  1.646152  0.596684 -0.648783  1.527360  1.590726  1.602725 -0.173873   \n",
       "\n",
       "             7         8         9   ...        16        17        18  \\\n",
       "0     -0.316707 -0.814777  1.705964  ... -0.333392  4.305040 -0.115374   \n",
       "1     -0.316707 -0.814777  1.705964  ... -0.333392 -0.232286 -0.115374   \n",
       "2     -0.316707  1.227330 -0.586179  ... -0.333392 -0.232286 -0.115374   \n",
       "3     -0.316707 -0.814777  1.705964  ... -0.333392 -0.232286 -0.115374   \n",
       "4     -0.316707  1.227330 -0.586179  ... -0.333392 -0.232286 -0.115374   \n",
       "...         ...       ...       ...  ...       ...       ...       ...   \n",
       "37753 -0.316707 -0.814777 -0.586179  ... -0.333392  4.305040 -0.115374   \n",
       "37754 -0.316707  1.227330 -0.586179  ... -0.333392 -0.232286 -0.115374   \n",
       "37755 -0.316707 -0.814777 -0.586179  ... -0.333392 -0.232286 -0.115374   \n",
       "37756 -0.316707  1.227330 -0.586179  ... -0.333392 -0.232286 -0.115374   \n",
       "37757 -0.316707  1.227330 -0.586179  ...  2.999470 -0.232286 -0.115374   \n",
       "\n",
       "             19        20        21        22        23        24        25  \n",
       "0     -0.185497  1.761475 -0.453000 -0.422363 -0.539407 -0.269292 -0.324393  \n",
       "1     -0.185497  1.761475 -0.453000 -0.422363 -0.539407 -0.269292 -0.324393  \n",
       "2     -0.185497 -0.567706 -0.453000 -0.422363  1.853887 -0.269292 -0.324393  \n",
       "3     -0.185497 -0.567706 -0.453000 -0.422363  1.853887 -0.269292 -0.324393  \n",
       "4     -0.185497 -0.567706 -0.453000 -0.422363 -0.539407 -0.269292  3.082681  \n",
       "...         ...       ...       ...       ...       ...       ...       ...  \n",
       "37753  5.390928 -0.567706 -0.453000 -0.422363 -0.539407 -0.269292 -0.324393  \n",
       "37754 -0.185497 -0.567706 -0.453000  2.367629 -0.539407 -0.269292 -0.324393  \n",
       "37755 -0.185497 -0.567706  2.207504 -0.422363 -0.539407 -0.269292 -0.324393  \n",
       "37756 -0.185497 -0.567706  2.207504 -0.422363 -0.539407 -0.269292 -0.324393  \n",
       "37757 -0.185497  1.761475 -0.453000 -0.422363 -0.539407 -0.269292 -0.324393  \n",
       "\n",
       "[37758 rows x 26 columns]"
      ]
     },
     "execution_count": 23,
     "metadata": {},
     "output_type": "execute_result"
    }
   ],
   "source": [
    "from sklearn.preprocessing import StandardScaler\n",
    "normalizer = StandardScaler()\n",
    "X_train_norm = pd.DataFrame(normalizer.fit_transform(X_train))\n",
    "X_test_norm = pd.DataFrame(normalizer.fit_transform(X_test))\n",
    "X_train_norm"
   ]
  },
  {
   "cell_type": "markdown",
   "metadata": {},
   "source": [
    "**Задача 3.7 (0.2 балла)** Оцените линейную регрессию на тренировочной выборке. Выведите среднеквадратичную ошибку на тренировочной и тестовой выборках."
   ]
  },
  {
   "cell_type": "code",
   "execution_count": 24,
   "metadata": {},
   "outputs": [
    {
     "name": "stdout",
     "output_type": "stream",
     "text": [
      "1296113.8146618737\n",
      "7.633707902654547e+28\n"
     ]
    }
   ],
   "source": [
    "from sklearn.linear_model import LinearRegression\n",
    "from sklearn.metrics import mean_squared_error\n",
    "model = LinearRegression().fit(X_train_norm, y_train)\n",
    "y_predict = model.predict(X_train_norm)\n",
    "y_pred = model.predict(X_test_norm)\n",
    "print(mean_squared_error(y_train, y_predict))\n",
    "print(mean_squared_error(y_test, y_pred))"
   ]
  },
  {
   "cell_type": "markdown",
   "metadata": {},
   "source": [
    "**Задача 3.8 (0.2 балла)** Изучите документацию модуля `LinearRegression` и выведите полученные оценки коэффициентов. Назовите вещественные переменные, оценки коэффициентов которых по модулю на порядок превышают оценки прочих вещественных переменных."
   ]
  },
  {
   "cell_type": "code",
   "execution_count": 25,
   "metadata": {},
   "outputs": [
    {
     "name": "stdout",
     "output_type": "stream",
     "text": [
      "carat 5368.853195314233\n",
      "depth -99.08450503703921\n",
      "table -65.40356488505574\n",
      "x -1578.2137225692677\n",
      "y 454.09921843565223\n",
      "z -32.773809082298726\n",
      "cut_Fair 1321828696946910.2\n",
      "cut_Good 2254353766300043.5\n",
      "cut_Ideal 3835295501629723.5\n",
      "cut_Premium 3416925813813831.5\n",
      "cut_Very Good 3269370860136274.5\n",
      "color_D -2532553081039161.0\n",
      "color_E -2946913914557066.5\n",
      "color_F -2910186757110386.5\n",
      "color_G -3091876625860687.0\n",
      "color_H -2744920206701729.5\n",
      "color_I -2285403405260715.5\n",
      "color_J -1678727970818721.5\n",
      "clarity_I1 2453634527595466.5\n",
      "clarity_IF 3864462572612199.5\n",
      "clarity_SI1 9252130476183542.0\n",
      "clarity_SI2 8099923825943278.0\n",
      "clarity_VS1 7723993035635345.0\n",
      "clarity_VS2 9004276495936691.0\n",
      "clarity_VVS1 5410825612891521.0\n",
      "clarity_VVS2 6325041848104876.0\n"
     ]
    }
   ],
   "source": [
    "for f, c in zip(X_train, model.coef_):\n",
    "    print(f, c)\n",
    "# оценки коэффицентов качественных переменных, закодированных при помощи One-hot кодирования, сильно отличаются от оценок прочих вещественных переменных."
   ]
  },
  {
   "cell_type": "markdown",
   "metadata": {},
   "source": [
    "**Задача 3.9 (0.4 балла)** Как можно заметить из анализа корреляционной матрицы в задаче 3.3, между некоторыми признаками имеется сильная корреляция, что может быть индикатором проблемы *мультиколлинеарности*. Различия в порядке коэффициентов, выявленные в предыдущей задаче также намекают на её присутствие. Как известно, для решения этой проблемы можно либо исключить некоторые признаки из модели, либо использовать регуляризацию. Мы воспользуемся вторым вариантом. \n",
    "\n",
    "Вспомним, что смысл регуляризации заключается в том, чтобы изменить функцию потерь так, чтобы устранить проблемы, появляющиеся из-за мультиколлинеарности. При L1-регуляризации предлагается минимизировать следующую функцию потерь:\n",
    "\n",
    "$$\n",
    "\\|y - X\\hat{w}\\|^2 + \\alpha\\sum_{i=1}^k|w_i|\n",
    "$$\n",
    "\n",
    "Такая модель называется Lasso-регрессией.\n",
    "\n",
    "При L2-регуляризации предлагается минимизировать следующую функцию потерь:\n",
    "\n",
    "$$\n",
    "\\|y - X\\hat{w}\\|^2 + \\frac{1}{2}\\alpha\\|w\\|^2\n",
    "$$\n",
    "\n",
    "Такая модель называется Ridge-регрессией. \n",
    "\n",
    "Обучите Lasso-регрессию и Ridge-регрессию, уставновив гиперпараметр регуляризации равным 10. Для этого используйте модули `Lasso` и `Ridge` из `sklearn`. Сильно ли уменьшились веса? Сделайте вывод о том, насколько сильно проблема мультиколлинеарности проявлялась в изначальной регрессии."
   ]
  },
  {
   "cell_type": "code",
   "execution_count": 26,
   "metadata": {},
   "outputs": [
    {
     "name": "stdout",
     "output_type": "stream",
     "text": [
      "1307725.9983572743\n"
     ]
    }
   ],
   "source": [
    "from sklearn.linear_model import Lasso, Ridge\n",
    "from sklearn.feature_selection import SelectFromModel\n",
    "model1 = Lasso(10).fit(X_train_norm, y_train)\n",
    "y_predict1 = model1.predict(X_train_norm)\n",
    "print(mean_squared_error(y_train, y_predict1))\n"
   ]
  },
  {
   "cell_type": "code",
   "execution_count": 27,
   "metadata": {},
   "outputs": [
    {
     "name": "stdout",
     "output_type": "stream",
     "text": [
      "[4910.85000518  -69.30907969  -52.5668992  -687.64834607   -0.\n",
      "  -38.41303451 -118.10179115  -43.89538359   41.67608363    0.\n",
      "   -0.          149.79957729   92.44744253   66.41975307   -0.\n",
      " -170.4904848  -280.16907688 -406.54610389 -474.73983707  194.16161987\n",
      " -264.51140317 -591.102748     95.23827407   -0.          185.53536031\n",
      "  198.36406786]\n"
     ]
    }
   ],
   "source": [
    "print(model1.coef_)"
   ]
  },
  {
   "cell_type": "code",
   "execution_count": 28,
   "metadata": {},
   "outputs": [
    {
     "name": "stdout",
     "output_type": "stream",
     "text": [
      "1296042.3146045445\n"
     ]
    }
   ],
   "source": [
    "ridge = Ridge(10).fit(X_train_norm,y_train)\n",
    "y_predict2 = ridge.predict(X_train_norm)\n",
    "print(mean_squared_error(y_train, y_predict2))"
   ]
  },
  {
   "cell_type": "code",
   "execution_count": 29,
   "metadata": {},
   "outputs": [
    {
     "name": "stdout",
     "output_type": "stream",
     "text": [
      "[ 5.32843413e+03 -9.74116156e+01 -6.51912968e+01 -1.37535857e+03\n",
      "  2.87684884e+02 -3.73220012e+01 -1.14847193e+02 -4.41914176e+01\n",
      "  5.00918708e+01  1.95529749e+01 -2.29303626e+00  2.12902072e+02\n",
      "  1.61967421e+02  1.36077212e+02  5.52826973e+01 -1.27490938e+02\n",
      " -2.52248958e+02 -3.91358311e+02 -4.56821911e+02  2.47249040e+02\n",
      " -1.53770985e+02 -5.03325188e+02  2.00327956e+02  1.06753442e+02\n",
      "  2.55527135e+02  2.80442768e+02]\n"
     ]
    }
   ],
   "source": [
    "print(ridge.coef_)"
   ]
  },
  {
   "cell_type": "markdown",
   "metadata": {},
   "source": [
    "В обоих случаях оценки коэффицентов значительно уменьшились с точки зрения абсолютных значений. Это говорит о том, что модель, обученная при помощи обычной линейной регрессии, переобучилась. Поэтому можно сделать вывод, что проблема мультиколлинеарности в изначальной регрессии проявлялась достаточно сильно и делала модель практически бесполезной(что и подтверждает среднеквадратичная ошибка на тестовой выборке)"
   ]
  },
  {
   "cell_type": "markdown",
   "metadata": {},
   "source": [
    "**Задача 3.10 (0.4 балла)** Как обсуждалось на семинарах, Lasso-регрессию можно использовать для отбора наиболее информативных признаков. Для следующих значений параметра регуляриазции $\\alpha$: 0.1, 1, 10, 100, 200 –  обучите Lasso- и Ridge-регрессии и постройте график измненения евклидовой нормы весов (`np.linalg.norm()` от вектора оценок коэффициентов) в зависимости от параметра $\\alpha$. Как известно, норма является численной характеристикой величины вектора, а потому по норме можно судить о том, насколько большие элементы содержит вектор оценок коэффициентов. \n",
    "\n",
    "Какой метод агрессивнее уменьшает веса? Поясните, почему Lasso-регрессию часто используют для отбора признаков."
   ]
  },
  {
   "cell_type": "code",
   "execution_count": 30,
   "metadata": {},
   "outputs": [
    {
     "data": {
      "image/png": "[encoded data removed]",
      "text/plain": [
       "<Figure size 432x288 with 1 Axes>"
      ]
     },
     "metadata": {
      "needs_background": "light"
     },
     "output_type": "display_data"
    }
   ],
   "source": [
    "import warnings\n",
    "warnings.filterwarnings(\"ignore\")\n",
    "a = [0.1, 1, 10, 100, 200]\n",
    "coef_las = []\n",
    "for i in a:\n",
    "    lasso = Lasso(i).fit(X_train_norm, y_train)\n",
    "    coef_las.append(np.linalg.norm(lasso.coef_))\n",
    "plt.scatter(a,coef_las)\n",
    "plt.show()"
   ]
  },
  {
   "cell_type": "code",
   "execution_count": 31,
   "metadata": {},
   "outputs": [
    {
     "data": {
      "image/png": "[encoded data removed]",
      "text/plain": [
       "<Figure size 432x288 with 1 Axes>"
      ]
     },
     "metadata": {
      "needs_background": "light"
     },
     "output_type": "display_data"
    }
   ],
   "source": [
    "coef_r = []\n",
    "for i in a:\n",
    "    ridge = Ridge(i).fit(X_train_norm,y_train)\n",
    "    coef_r.append(np.linalg.norm(ridge.coef_))\n",
    "plt.scatter(a,coef_r)\n",
    "plt.show()"
   ]
  },
  {
   "cell_type": "code",
   "execution_count": 32,
   "metadata": {},
   "outputs": [],
   "source": [
    "#Агрессивнее веса уменьшает метод Lasso. Помимо этого, данный метод склонен к занулению некоторых параметров при больших lamda."
   ]
  },
  {
   "cell_type": "markdown",
   "metadata": {},
   "source": [
    "**Задача 3.11 (0.5 балла)** \n",
    "В зависимости от значения параметра $\\alpha$ в Lasso-регрессии зануляются разные оценки коэффициентов. Оптимальное значение $\\alpha$ можно подобрать, например, при помощи кросс-валидации по тренировочной выборке. \n",
    "\n",
    "Для проведения кросс-валидации можно использовать модуль `LassoCV`. Этот модуль принимает список значений $\\alpha$ (параметр `alphas`) и при обучении проводит кросс-валидацию для каждого значения из этого списка, сохраняя MSE на каждом участке кросс-валидации (количество участков – параметр `cv`) в матрицу ошибок (то есть итоговая матрица будет иметь размер `len(alphas)` $\\times$ `cv`). После обучения модели матрицу ошибок можно получить, обратившись к атрибуту `.mse_path_`. \n",
    "\n",
    "Заметим, что модель может использовать $\\alpha$ не в том порядке, в котором вы подаёте их в функцию: для определения порядка используйте атрибут `.alphas_` Установите количество участков для кросс-валидации (параметр `cv`) равным 5.\n",
    "\n",
    "Усредните ошибки для каждого значения $\\alpha$ (то есть по строкам матрицы ошибок) и выберите то значение, которое даёт наибольшее качество. "
   ]
  },
  {
   "cell_type": "code",
   "execution_count": 33,
   "metadata": {},
   "outputs": [
    {
     "data": {
      "image/png": "[encoded data removed]",
      "text/plain": [
       "<Figure size 720x360 with 2 Axes>"
      ]
     },
     "metadata": {
      "needs_background": "light"
     },
     "output_type": "display_data"
    }
   ],
   "source": [
    "from sklearn.linear_model import LassoCV\n",
    "fig, ax = plt.subplots(1, 2)\n",
    "lst1 = np.arange(0.001, 100, 0.1)\n",
    "model3 = LassoCV(cv=5, alphas=lst1).fit(X_train_norm, y_train)\n",
    "ax[0].plot(model3.alphas_, model3.mse_path_.mean(axis=1))\n",
    "lst2 = np.arange(0.001, 5, 0.001)\n",
    "model4 = LassoCV(cv=5, alphas=lst2).fit(X_train_norm, y_train)\n",
    "ax[1].plot(model4.alphas_, model4.mse_path_.mean(axis=1))\n",
    "fig.set_figwidth(10)\n",
    "fig.set_figheight(5)\n",
    "plt.show()"
   ]
  },
  {
   "cell_type": "code",
   "execution_count": 34,
   "metadata": {},
   "outputs": [],
   "source": [
    "#Из графиков видно, что наибольшее качетсво достигается при а=1"
   ]
  },
  {
   "cell_type": "markdown",
   "metadata": {},
   "source": [
    "**Задача 3.12 (0.5 балла)** Обучите итоговую Lasso-регрессию с выбранным параметром $\\alpha$ на тренировочной выборке. Выведите полученные коэффициенты и прокомментируйте, какие признаки оказались неинформативными, а какие – наиболее информативными. Приведите возможное смысловое объяснение этого результата."
   ]
  },
  {
   "cell_type": "code",
   "execution_count": 35,
   "metadata": {},
   "outputs": [
    {
     "name": "stdout",
     "output_type": "stream",
     "text": [
      "carat 5330.404095280693\n",
      "depth -99.61246067058195\n",
      "table -65.13694696438597\n",
      "x -1099.4672060950606\n",
      "y 0.0\n",
      "z -27.414513679680052\n",
      "cut_Fair -122.33847224159409\n",
      "cut_Good -52.35467989622167\n",
      "cut_Ideal 33.852947871841394\n",
      "cut_Premium 0.0\n",
      "cut_Very Good -13.029381695083014\n",
      "color_D 166.21872858421955\n",
      "color_E 107.90312435521831\n",
      "color_F 82.98888273067789\n",
      "color_G -0.0\n",
      "color_H -176.50157463439172\n",
      "color_I -292.42229763562585\n",
      "color_J -420.54909628817256\n",
      "clarity_I1 -486.04375912887537\n",
      "clarity_IF 200.70750983441198\n",
      "clarity_SI1 -263.10411012529994\n",
      "clarity_SI2 -599.0393140062469\n",
      "clarity_VS1 107.76684445794601\n",
      "clarity_VS2 -0.0\n",
      "clarity_VVS1 190.35299910054337\n",
      "clarity_VVS2 204.62636373390907\n"
     ]
    }
   ],
   "source": [
    "model3 = Lasso(1).fit(X_train_norm, y_train)\n",
    "for f, c in zip(X_train, model3.coef_):\n",
    "    print(f, c)"
   ]
  },
  {
   "cell_type": "markdown",
   "metadata": {},
   "source": [
    "Самыми информативными оказались признаки carat, от которого целевая переменная зависит прямопропорцианально, и x, дающий обратную зависимость. Практически неинформативными оказались признаки cut_Very Good, cut_Ideal и z. Более того, признаки y, cut_Premium, color_G и clarity_VS2 занулились. Безусловно, ключевым признаком является carat(что можно было заметить еще на стадии построения корреляционной матрицы)"
   ]
  },
  {
   "cell_type": "markdown",
   "metadata": {},
   "source": [
    "**Задача 3.13 (0.4 балла)** Сделайте предсказания обученной Lasso-регрессии на тестовой выборке и сравните среднеквадратичную ошибку с ошибкой обычной линейной регрессии из задачи 3.7. Какую модель лучше использовать для предсказаний? Приведите возможное объяснение, почему одна модель оказалась лучше другой."
   ]
  },
  {
   "cell_type": "code",
   "execution_count": 36,
   "metadata": {},
   "outputs": [
    {
     "name": "stdout",
     "output_type": "stream",
     "text": [
      "1243826.8920240414\n"
     ]
    }
   ],
   "source": [
    "prediction = model3.predict(X_test_norm)\n",
    "print(mean_squared_error(y_test, prediction))"
   ]
  },
  {
   "cell_type": "markdown",
   "metadata": {},
   "source": [
    "Cреднеквадратичная ошибка, полученная после предсказания Lasso-регрессией по тестовой выборке, оказалась на порядок меньше той, которая была получена в результате работы обычной регрессии. Это вызвано тем, что во втором случае модель переобучилась под тренировочную выборку(о чем и говорят большие абсолютные значения коэффицентов). Из этого можно сделать вывод, что лучше использовать Lasso-регрессию, которая не дает модели переобучаться"
   ]
  }
 ],
 "metadata": {
  "kernelspec": {
   "display_name": "Python 3",
   "language": "python",
   "name": "python3"
  },
  "language_info": {
   "codemirror_mode": {
    "name": "ipython",
    "version": 3
   },
   "file_extension": ".py",
   "mimetype": "text/x-python",
   "name": "python",
   "nbconvert_exporter": "python",
   "pygments_lexer": "ipython3",
   "version": "3.8.8"
  }
 },
 "nbformat": 4,
 "nbformat_minor": 4
}
